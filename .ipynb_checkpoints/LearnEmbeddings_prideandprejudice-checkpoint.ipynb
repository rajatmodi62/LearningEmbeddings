{
 "cells": [
  {
   "cell_type": "markdown",
   "metadata": {
    "colab_type": "text",
    "id": "NjUo0K1xw2G2"
   },
   "source": [
    "\n",
    "\n",
    "```\n",
    "# This is formatted as code\n",
    "The aim of this project is to learn embeddings from the pride and prejudice book. We use nltk library and load the dataset. Lets have a look \n",
    "\n"
   ]
  },
  {
   "cell_type": "code",
   "execution_count": 1,
   "metadata": {
    "colab": {
     "base_uri": "https://localhost:8080/",
     "height": 145
    },
    "colab_type": "code",
    "id": "vKvhhtRlv0qs",
    "outputId": "f2c091d2-8e5a-4bd6-d9b1-703ee13a8a08"
   },
   "outputs": [
    {
     "name": "stdout",
     "output_type": "stream",
     "text": [
      "Requirement already satisfied: nltk in /Users/rajatmodi/.pyenv/versions/anaconda3-2018.12/lib/python3.7/site-packages (3.4)\n",
      "Requirement already satisfied: six in /Users/rajatmodi/.pyenv/versions/anaconda3-2018.12/lib/python3.7/site-packages (from nltk) (1.12.0)\n",
      "Requirement already satisfied: singledispatch in /Users/rajatmodi/.pyenv/versions/anaconda3-2018.12/lib/python3.7/site-packages (from nltk) (3.4.0.3)\n"
     ]
    },
    {
     "name": "stderr",
     "output_type": "stream",
     "text": [
      "[nltk_data] Downloading package punkt to /Users/rajatmodi/nltk_data...\n",
      "[nltk_data]   Unzipping tokenizers/punkt.zip.\n"
     ]
    },
    {
     "data": {
      "text/plain": [
       "True"
      ]
     },
     "execution_count": 1,
     "metadata": {},
     "output_type": "execute_result"
    }
   ],
   "source": [
    "!pip install nltk\n",
    "import nltk\n",
    "nltk.download('punkt')"
   ]
  },
  {
   "cell_type": "code",
   "execution_count": 2,
   "metadata": {
    "colab": {
     "base_uri": "https://localhost:8080/",
     "height": 580
    },
    "colab_type": "code",
    "id": "RYApFUvjwNYP",
    "outputId": "f8a85f86-8153-44c7-83bb-dc64388e1921"
   },
   "outputs": [
    {
     "name": "stdout",
     "output_type": "stream",
     "text": [
      "﻿The Project Gutenberg EBook of Pride and Prejudice, by Jane Austen\n",
      "\n",
      "This eBook is for the use of anyone anywhere at no cost and with\n",
      "almost no restrictions whatsoever.\n"
     ]
    },
    {
     "data": {
      "text/plain": [
       "['project',\n",
       " 'gutenberg',\n",
       " 'ebook',\n",
       " 'of',\n",
       " 'pride',\n",
       " 'and',\n",
       " 'prejudice',\n",
       " 'by',\n",
       " 'jane',\n",
       " 'austen',\n",
       " 'this',\n",
       " 'ebook',\n",
       " 'is',\n",
       " 'for',\n",
       " 'the',\n",
       " 'use',\n",
       " 'of',\n",
       " 'anyone',\n",
       " 'anywhere',\n",
       " 'at',\n",
       " 'no',\n",
       " 'cost',\n",
       " 'and',\n",
       " 'with',\n",
       " 'almost',\n",
       " 'no',\n",
       " 'restrictions',\n",
       " 'whatsoever']"
      ]
     },
     "execution_count": 2,
     "metadata": {},
     "output_type": "execute_result"
    }
   ],
   "source": [
    "#create a pipeline for text processing \n",
    "# load data\n",
    "filename = 'prideandprejudice.txt'\n",
    "file = open(filename, 'rt')\n",
    "text = file.read()\n",
    "file.close()\n",
    "# split into sentences\n",
    "from nltk import sent_tokenize\n",
    "sentences = sent_tokenize(text)\n",
    "print(sentences[0])\n",
    "#tokenize each sentence \n",
    "from nltk.tokenize import word_tokenize\n",
    "tokens = [ word_tokenize(i) for i in sentences]\n",
    "#lowercase the letters \n",
    "import string\n",
    "table = str.maketrans('', '', string.punctuation)\n",
    "for i in range(len(tokens)):\n",
    "  for j in range(len(tokens[i])):\n",
    "    tokens[i][j]=tokens[i][j].lower()\n",
    "    tokens[i][j]=tokens[i][j].translate(table)\n",
    "tokens[0]\n",
    "#next remove the words from the row which is not allphabetic \n",
    "for i in range(len(tokens)):\n",
    "  tokens[i]=[w for w in tokens[i] if w.isalpha()]\n",
    "#filter out the stop words from the corpus \n",
    "for i in range(len(tokens)):\n",
    "  tokens[i]=[w for w in tokens[i] if w.isalpha()]\n",
    "tokens[0]"
   ]
  },
  {
   "cell_type": "code",
   "execution_count": 3,
   "metadata": {
    "colab": {
     "base_uri": "https://localhost:8080/",
     "height": 521
    },
    "colab_type": "code",
    "id": "LbobSk2xwVg7",
    "outputId": "e78a9f5f-8ff0-4808-b9a3-11ef6dc8c87a"
   },
   "outputs": [
    {
     "name": "stdout",
     "output_type": "stream",
     "text": [
      "Collecting gensim\n",
      "\u001b[?25l  Downloading https://files.pythonhosted.org/packages/35/f5/e80eea8c6c04a0b845c2c9c298914025f2b974075c7514aa8464c9bb4adb/gensim-3.7.2-cp37-cp37m-macosx_10_6_intel.macosx_10_9_intel.macosx_10_9_x86_64.macosx_10_10_intel.macosx_10_10_x86_64.whl (24.7MB)\n",
      "\u001b[K    99% |████████████████████████████████| 24.7MB 4.5MB/s eta 0:00:01   27% |████████▉                       | 6.8MB 3.7MB/s eta 0:00:05    34% |███████████                     | 8.4MB 3.6MB/s eta 0:00:05    100% |████████████████████████████████| 24.7MB 1.3MB/s \n",
      "\u001b[?25hCollecting smart-open>=1.7.0 (from gensim)\n",
      "\u001b[?25l  Downloading https://files.pythonhosted.org/packages/bf/ba/7eaf3c0dbe601c43d88e449dcd7b61d385fe07c0167163f63f58ece7c1b5/smart_open-1.8.3.tar.gz (60kB)\n",
      "\u001b[K    100% |████████████████████████████████| 61kB 4.7MB/s ta 0:00:011\n",
      "\u001b[?25hRequirement already satisfied, skipping upgrade: scipy>=0.18.1 in /Users/rajatmodi/.pyenv/versions/anaconda3-2018.12/lib/python3.7/site-packages (from gensim) (1.1.0)\n",
      "Requirement already satisfied, skipping upgrade: six>=1.5.0 in /Users/rajatmodi/.pyenv/versions/anaconda3-2018.12/lib/python3.7/site-packages (from gensim) (1.12.0)\n",
      "Requirement already satisfied, skipping upgrade: numpy>=1.11.3 in /Users/rajatmodi/.pyenv/versions/anaconda3-2018.12/lib/python3.7/site-packages (from gensim) (1.15.4)\n",
      "Requirement already satisfied, skipping upgrade: boto>=2.32 in /Users/rajatmodi/.pyenv/versions/anaconda3-2018.12/lib/python3.7/site-packages (from smart-open>=1.7.0->gensim) (2.49.0)\n",
      "Requirement already satisfied, skipping upgrade: requests in /Users/rajatmodi/.pyenv/versions/anaconda3-2018.12/lib/python3.7/site-packages (from smart-open>=1.7.0->gensim) (2.21.0)\n",
      "Collecting boto3 (from smart-open>=1.7.0->gensim)\n",
      "\u001b[?25l  Downloading https://files.pythonhosted.org/packages/37/6d/d9896852786841094509b262d533e691e6f06583f4bd15c3c662bba28548/boto3-1.9.137-py2.py3-none-any.whl (128kB)\n",
      "\u001b[K    100% |████████████████████████████████| 133kB 3.9MB/s ta 0:00:01\n",
      "\u001b[?25hRequirement already satisfied, skipping upgrade: urllib3<1.25,>=1.21.1 in /Users/rajatmodi/.pyenv/versions/anaconda3-2018.12/lib/python3.7/site-packages (from requests->smart-open>=1.7.0->gensim) (1.24.1)\n",
      "Requirement already satisfied, skipping upgrade: chardet<3.1.0,>=3.0.2 in /Users/rajatmodi/.pyenv/versions/anaconda3-2018.12/lib/python3.7/site-packages (from requests->smart-open>=1.7.0->gensim) (3.0.4)\n",
      "Requirement already satisfied, skipping upgrade: certifi>=2017.4.17 in /Users/rajatmodi/.pyenv/versions/anaconda3-2018.12/lib/python3.7/site-packages (from requests->smart-open>=1.7.0->gensim) (2018.11.29)\n",
      "Requirement already satisfied, skipping upgrade: idna<2.9,>=2.5 in /Users/rajatmodi/.pyenv/versions/anaconda3-2018.12/lib/python3.7/site-packages (from requests->smart-open>=1.7.0->gensim) (2.8)\n",
      "Collecting s3transfer<0.3.0,>=0.2.0 (from boto3->smart-open>=1.7.0->gensim)\n",
      "\u001b[?25l  Downloading https://files.pythonhosted.org/packages/d7/de/5737f602e22073ecbded7a0c590707085e154e32b68d86545dcc31004c02/s3transfer-0.2.0-py2.py3-none-any.whl (69kB)\n",
      "\u001b[K    100% |████████████████████████████████| 71kB 4.7MB/s ta 0:00:01\n",
      "\u001b[?25hCollecting botocore<1.13.0,>=1.12.137 (from boto3->smart-open>=1.7.0->gensim)\n",
      "\u001b[?25l  Downloading https://files.pythonhosted.org/packages/55/a2/e0f657583e8a46fa590963f43618dc2f452dcd18ac025f1c9f86d7d00526/botocore-1.12.137-py2.py3-none-any.whl (5.4MB)\n",
      "\u001b[K    100% |████████████████████████████████| 5.4MB 2.9MB/s ta 0:00:01\n",
      "\u001b[?25hCollecting jmespath<1.0.0,>=0.7.1 (from boto3->smart-open>=1.7.0->gensim)\n",
      "  Downloading https://files.pythonhosted.org/packages/83/94/7179c3832a6d45b266ddb2aac329e101367fbdb11f425f13771d27f225bb/jmespath-0.9.4-py2.py3-none-any.whl\n",
      "Requirement already satisfied, skipping upgrade: docutils>=0.10 in /Users/rajatmodi/.pyenv/versions/anaconda3-2018.12/lib/python3.7/site-packages (from botocore<1.13.0,>=1.12.137->boto3->smart-open>=1.7.0->gensim) (0.14)\n",
      "Requirement already satisfied, skipping upgrade: python-dateutil<3.0.0,>=2.1; python_version >= \"2.7\" in /Users/rajatmodi/.pyenv/versions/anaconda3-2018.12/lib/python3.7/site-packages (from botocore<1.13.0,>=1.12.137->boto3->smart-open>=1.7.0->gensim) (2.7.5)\n",
      "Building wheels for collected packages: smart-open\n",
      "  Running setup.py bdist_wheel for smart-open ... \u001b[?25ldone\n",
      "\u001b[?25h  Stored in directory: /Users/rajatmodi/Library/Caches/pip/wheels/b8/cb/43/c0ba52baf2b0e371ec1d5b2d4685d6d24617b1391f3eeacda5\n",
      "Successfully built smart-open\n",
      "Installing collected packages: jmespath, botocore, s3transfer, boto3, smart-open, gensim\n",
      "Successfully installed boto3-1.9.137 botocore-1.12.137 gensim-3.7.2 jmespath-0.9.4 s3transfer-0.2.0 smart-open-1.8.3\n"
     ]
    }
   ],
   "source": [
    "#use the gensim libraru to learn the embeddings\n",
    "!pip install -U gensim \n"
   ]
  },
  {
   "cell_type": "code",
   "execution_count": 4,
   "metadata": {
    "colab": {
     "base_uri": "https://localhost:8080/",
     "height": 485
    },
    "colab_type": "code",
    "id": "YZyaLq_KxROD",
    "outputId": "33a9369d-2e1b-4055-e139-0ff95ac2efc8"
   },
   "outputs": [
    {
     "name": "stdout",
     "output_type": "stream",
     "text": [
      "Word2Vec(vocab=6664, size=100, alpha=0.025)\n",
      "['project', 'gutenberg', 'ebook', 'of', 'pride', 'and', 'prejudice', 'by', 'jane', 'austen', 'this', 'is', 'for', 'the', 'use', 'anyone', 'anywhere', 'at', 'no', 'cost', 'with', 'almost', 'restrictions', 'whatsoever', 'you', 'may', 'copy', 'it', 'give', 'away', 'or', 'reuse', 'under', 'terms', 'license', 'included', 'online', 'wwwgutenbergorg', 'title', 'author', 'posting', 'date', 'august', 'release', 'june', 'last', 'updated', 'march', 'language', 'english', 'character', 'set', 'encoding', 'start', 'produced', 'anonymous', 'volunteers', 'chapter', 'a', 'truth', 'universally', 'acknowledged', 'that', 'single', 'man', 'in', 'possession', 'good', 'fortune', 'must', 'be', 'want', 'wife', 'however', 'little', 'known', 'feelings', 'views', 'such', 'on', 'his', 'first', 'entering', 'neighbourhood', 'so', 'well', 'fixed', 'minds', 'surrounding', 'families', 'he', 'considered', 'rightful', 'property', 'some', 'one', 'other', 'their', 'daughters', 'my', 'dear', 'mr', 'bennet', 'said', 'lady', 'to', 'him', 'day', 'have', 'heard', 'netherfield', 'park', 'let', 'replied', 'had', 'not', 'but', 'returned', 'she', 'mrs', 'long', 'has', 'just', 'been', 'here', 'told', 'me', 'all', 'about', 'made', 'answer', 'do', 'know', 'who', 'taken', 'cried', 'impatiently', 'tell', 'i', 'objection', 'hearing', 'was', 'invitation', 'enough', 'why', 'says', 'young', 'large', 'from', 'north', 'england', 'came', 'down', 'monday', 'chaise', 'four', 'see', 'place', 'much', 'delighted', 'agreed', 'morris', 'immediately', 'take', 'before', 'michaelmas', 'servants', 'are', 'house', 'end', 'next', 'week', 'what', 'name', 'bingley', 'married', 'oh', 'sure', 'five', 'thousand', 'year', 'fine', 'thing', 'our', 'girls', 'how', 'can', 'affect', 'them', 'tiresome', 'am', 'thinking', 'marrying', 'design', 'settling', 'nonsense', 'talk', 'very', 'likely', 'fall', 'love', 'therefore', 'visit', 'as', 'soon', 'comes', 'occasion', 'go', 'send', 'themselves', 'which', 'perhaps', 'will', 'still', 'better', 'handsome', 'any', 'like', 'best', 'party', 'flatter', 'certainly', 'share', 'beauty', 'pretend', 'anything', 'extraordinary', 'now', 'when', 'woman', 'grownup', 'ought', 'over', 'her', 'own', 'cases', 'often', 'think', 'indeed', 'into', 'more', 'than', 'engage', 'assure', 'consider', 'your', 'only', 'an', 'establishment', 'would', 'sir', 'william', 'lucas', 'determined', 'merely', 'account', 'general', 'they', 'newcomers', 'impossible', 'us', 'if', 'overscrupulous', 'surely', 'dare', 'say', 'glad', 'few', 'lines', 'hearty', 'consent', 'whichever', 'chooses', 'though', 'throw', 'word', 'lizzy', 'desire', 'bit', 'others', 'half', 'nor', 'goodhumoured', 'lydia', 'always', 'giving', 'preference', 'none', 'recommend', 'silly', 'ignorant', 'something', 'quickness', 'sisters', 'abuse', 'children', 'way', 'delight', 'vexing', 'compassion', 'poor', 'nerves', 'mistake', 'high', 'respect', 'old', 'friends', 'mention', 'consideration', 'these', 'twenty', 'years', 'least', 'ah', 'suffer', 'hope', 'get', 'live', 'many', 'men', 'come', 'should', 'since', 'depend', 'upon', 'there', 'odd', 'mixture', 'quick', 'parts', 'sarcastic', 'humour', 'reserve', 'caprice', 'experience', 'threeandtwenty', 'insufficient', 'make', 'understand', 'mind', 'less', 'difficult', 'develop', 'mean', 'understanding', 'information', 'uncertain', 'temper', 'discontented', 'fancied', 'herself', 'nervous', 'business', 'life', 'its', 'solace', 'visiting', 'news', 'among', 'earliest', 'those', 'waited', 'intended', 'assuring', 'till', 'evening', 'after', 'paid', 'knowledge', 'then', 'disclosed', 'following', 'manner', 'observing', 'second', 'daughter', 'employed', 'trimming', 'hat', 'suddenly', 'addressed', 'we', 'likes', 'mother', 'resentfully', 'forget', 'mamma', 'elizabeth', 'shall', 'meet', 'assemblies', 'promised', 'introduce', 'believe', 'two', 'nieces', 'selfish', 'hypocritical', 'opinion', 'find', 'serving', 'deigned', 'reply', 'unable', 'contain', 'began', 'scolding', 'nt', 'keep', 'coughing', 'kitty', 'heaven', 's', 'sake', 'tear', 'pieces', 'discretion', 'coughs', 'father', 'times', 'ill', 'cough', 'amusement', 'fretfully', 'ball', 'tomorrow', 'fortnight', 'aye', 'does', 'back', 'advantage', 'friend', 'acquainted', 'myself', 'teasing', 'honour', 'circumspection', 'acquaintance', 'really', 'venture', 'somebody', 'else', 'neices', 'stand', 'chance', 'act', 'kindness', 'decline', 'office', 'stared', 'meaning', 'emphatic', 'exclamation', 'forms', 'introduction', 'stress', 'laid', 'quite', 'agree', 'mary', 'deep', 'reflection', 'read', 'great', 'books', 'extracts', 'wished', 'sensible', 'knew', 'while', 'adjusting', 'ideas', 'continued', 'return', 'sick', 'sorry', 'hear', 'did', 'morning', 'called', 'unlucky', 'actually', 'escape', 'astonishment', 'ladies', 'surpassing', 'rest', 'tumult', 'joy', 'declare', 'expected', 'persuade', 'loved', 'too', 'neglect', 'pleased', 'joke', 'gone', 'never', 'choose', 'spoke', 'left', 'room', 'fatigued', 'raptures', 'excellent', 'door', 'shut', 'ever', 'amends', 'either', 'matter', 'time', 'pleasant', 'making', 'new', 'acquaintances', 'every', 'sakes', 'youngest', 'dance', 'stoutly', 'afraid', 'm', 'tallest', 'spent', 'conjecturing', 'determining', 'ask', 'dinner', 'assistance', 'could', 'subject', 'sufficient', 'draw', 'husband', 'satisfactory', 'description', 'attacked', 'various', 'ways', 'barefaced', 'questions', 'ingenious', 'suppositions', 'distant', 'surmises', 'eluded', 'skill', 'were', 'obliged', 'accept', 'secondhand', 'intelligence', 'neighbour', 'report', 'highly', 'favourable', 'wonderfully', 'extremely', 'agreeable', 'crown', 'whole', 'meant', 'assembly', 'nothing', 'delightful', 'fond', 'dancing', 'certain', 'step', 'towards', 'falling', 'lively', 'hopes', 'heart', 'entertained', 'happily', 'settled', 'equally', 'wish', 'days', 'sat', 'ten', 'minutes', 'library', 'being', 'admitted', 'sight', 'whose', 'saw', 'somewhat', 'fortunate', 'ascertaining', 'upper', 'window', 'wore', 'blue', 'coat', 'rode', 'black', 'horse', 'afterwards', 'dispatched', 'already', 'planned', 'courses', 'credit', 'housekeeping', 'arrived', 'deferred', 'town', 'consequently', 'etc', 'disconcerted', 'imagine', 'arrival', 'hertfordshire', 'fear', 'might', 'flying', 'another', 'quieted', 'fears', 'starting', 'idea', 'london', 'followed', 'bring', 'twelve', 'seven', 'gentlemen', 'grieved', 'number', 'comforted', 'instead', 'brought', 'six', 'cousin', 'entered', 'consisted', 'altogether', 'eldest', 'goodlooking', 'gentlemanlike', 'countenance', 'easy', 'unaffected', 'manners', 'women', 'air', 'decided', 'fashion', 'brotherinlaw', 'hurst', 'looked', 'gentleman', 'darcy', 'drew', 'attention', 'tall', 'person', 'features', 'noble', 'mien', 'circulation', 'within', 'entrance', 'having', 'pronounced', 'figure', 'declared', 'handsomer', 'admiration', 'gave', 'disgust', 'turned', 'tide', 'popularity', 'discovered', 'proud', 'above', 'company', 'estate', 'derbyshire', 'save', 'most', 'forbidding', 'disagreeable', 'unworthy', 'compared', 'himself', 'principal', 'people', 'unreserved', 'danced', 'angry', 'closed', 'early', 'talked', 'amiable', 'qualities', 'speak', 'contrast', 'between', 'once', 'miss', 'declined', 'introduced', 'walking', 'speaking', 'occasionally', 'proudest', 'world', 'everybody', 'hoped', 'again', 'amongst', 'violent', 'against', 'dislike', 'behaviour', 'sharpened', 'particular', 'resentment', 'slighted', 'scarcity', 'sit', 'dances', 'during', 'part', 'standing', 'near', 'conversation', 'press', 'join', 'hate', 'yourself', 'stupid', 'detest', 'unless', 'particularly', 'partner', 'insupportable', 'engaged', 'whom', 'punishment', 'up', 'fastidious', 'kingdom', 'met', 'several', 'uncommonly', 'pretty', 'girl', 'looking', 'beautiful', 'creature', 'beheld', 'sitting', 'behind', 'turning', 'round', 'moment', 'catching', 'eye', 'withdrew', 'coldly', 'tolerable', 'tempt', 'present', 'consequence', 'enjoy', 'smiles', 'wasting', 'advice', 'walked', 'off', 'remained', 'cordial', 'toward', 'story', 'spirit', 'playful', 'disposition', 'ridiculous', 'passed', 'pleasantly', 'family', 'seen', 'admired', 'twice', 'distinguished', 'gratified', 'quieter', 'felt', 'janes', 'pleasure', 'mentioned', 'accomplished', 'catherine', 'without', 'partners', 'yet', 'learnt', 'care', 'spirits', 'longbourn', 'village', 'where', 'lived', 'inhabitants', 'found', 'book', 'regardless', 'deal', 'curiosity', 'event', 'raised', 'splendid', 'expectations', 'rather', 'stranger', 'disappointed', 'out', 'different', 'thought', 'asked', 'vexed', 'admire', 'nobody', 'seemed', 'struck', 'going', 'inquired', 'got', 'third', 'king', 'fourth', 'maria', 'fifth', 'sixth', 'boulanger', 'god', 'sprained', 'ankle', 'excessively', 'charming', 'elegant', 'dresses', 'lace', 'gown', 'interrupted', 'protested', 'finery', 'seek', 'branch', 'related', 'bitterness', 'exaggeration', 'shocking', 'rudeness', 'added', 'lose', 'suiting', 'fancy', 'horrid', 'worth', 'pleasing', 'conceited', 'enduring', 'fancying', 'given', 'setdowns', 'alone', 'former', 'cautious', 'praise', 'expressed', 'sister', 'happy', 'ease', 'perfect', 'breeding', 'also', 'likewise', 'possibly', 'thereby', 'complete', 'flattered', 'asking', 'expect', 'compliment', 'difference', 'compliments', 'surprise', 'natural', 'help', 'seeing', 'thanks', 'gallantry', 'leave', 'liked', 'stupider', 'apt', 'fault', 'anybody', 'eyes', 'human', 'hasty', 'censuring', 'makes', 'wonder', 'sense', 'honestly', 'blind', 'follies', 'affectation', 'candour', 'common', 'meets', 'everywhere', 'candid', 'ostentation', 'bad', 'belongs', 'equal', 'converse', 'brother', 'mistaken', 'listened', 'silence', 'convinced', 'calculated', 'please', 'observation', 'pliancy', 'judgement', 'unassailed', 'disposed', 'approve', 'fact', 'deficient', 'power', 'chose', 'educated', 'private', 'seminaries', 'pounds', 'habit', 'spending', 'associating', 'rank', 'entitled', 'meanly', 'respectable', 'circumstance', 'deeply', 'impressed', 'memories', 'acquired', 'trade', 'inherited', 'amount', 'nearly', 'hundred', 'purchase', 'sometimes', 'choice', 'county', 'provided', 'liberty', 'manor', 'doubtful', 'easiness', 'whether', 'spend', 'remainder', 'generation', 'anxious', 'established', 'tenant', 'means', 'unwilling', 'preside', 'table', 'home', 'suited', 'age', 'tempted', 'accidental', 'recommendation', 'look', 'halfanhour', 'situation', 'rooms', 'satisfied', 'owner', 'took', 'steady', 'friendship', 'spite', 'opposition', 'endeared', 'openness', 'ductility', 'offer', 'greater', 'appeared', 'dissatisfied', 'strength', 'regard', 'firmest', 'reliance', 'highest', 'superior', 'clever', 'same', 'haughty', 'reserved', 'wellbred', 'inviting', 'greatly', 'wherever', 'continually', 'offense', 'meryton', 'sufficiently', 'characteristic', 'prettier', 'kind', 'attentive', 'formality', 'stiffness', 'conceive', 'angel', 'contrary', 'collection', 'smallest', 'interest', 'received', 'smiled', 'allowed', 'sweet', 'object', 'authorized', 'commendation', 'short', 'walk', 'bennets', 'intimate', 'formerly', 'risen', 'knighthood', 'address', 'mayoralty', 'distinction', 'strongly', 'residence', 'small', 'market', 'quitting', 'both', 'removed', 'mile', 'denominated', 'period', 'lodge', 'importance', 'unshackled', 'occupy', 'solely', 'civil', 'elated', 'render', 'supercilious', 'nature', 'inoffensive', 'friendly', 'obliging', 'presentation', 'st', 'james', 'courteous', 'valuable', 'intelligent', 'twentyseven', 'lucases', 'absolutely', 'necessary', 'communicate', 'charlotte', 'selfcommand', 'yes', 'suppose', 'because', 'seem', 'hardly', 'robinson', 'overheard', 'prettiest', 'answering', 'question', 'beyond', 'doubt', 'opinions', 'point', 'overhearings', 'purpose', 'yours', 'eliza', 'listening', 'beg', 'put', 'head', 'illtreatment', 'misfortune', 'night', 'close', 'opening', 'lips', 'maam', 'speaks', 'remarkably', 'guess', 'eat', 'somehow', 'carriage', 'hack', 'talking', 'safely', 'promise', 'offend', 'excuse', 'everything', 'favour', 'express', 'right', 'true', 'easily', 'forgive', 'mortified', 'mine', 'observed', 'piqued', 'solidity', 'reflections', 'failing', 'prone', 'cherish', 'feeling', 'selfcomplacency', 'score', 'quality', 'real', 'imaginary', 'vanity', 'things', 'words', 'used', 'synonymously', 'vain', 'relates', 'ourselves', 'rich', 'pack', 'foxhounds', 'drink', 'bottle', 'wine', 'directly', 'boy', 'argument', 'ended', 'due', 'form', 'grew', 'goodwill', 'intolerable', 'younger', 'greatest', 'superciliousness', 'treatment', 'excepting', 'even', 'value', 'arising', 'probability', 'influence', 'generally', 'evident', 'whenever', 'yielding', 'begun', 'entertain', 'united', 'composure', 'uniform', 'cheerfulness', 'guard', 'suspicions', 'impertinent', 'able', 'impose', 'public', 'case', 'disadvantage', 'guarded', 'conceals', 'affection', 'opportunity', 'fixing', 'consolation', 'dark', 'gratitude', 'attachment', 'safe', 'itself', 'begin', 'freely', 'slight', 'encouragement', 'nine', 'show', 'feels', 'undoubtedly', 'allow', 'perceive', 'simpleton', 'discover', 'remember', 'partial', 'endeavour', 'conceal', 'sees', 'tolerably', 'hours', 'together', 'each', 'mixed', 'parties', 'conversing', 'halfhour', 'command', 'secure', 'leisure', 'plan', 'adopt', 'acting', 'degree', 'reasonableness', 'dined', 'represent', 'appetite', 'evenings', 'enabled', 'ascertain', 'vingtun', 'commerce', 'leading', 'unfolded', 'success', 'happiness', 'studying', 'twelvemonth', 'marriage', 'entirely', 'dispositions', 'similar', 'beforehand', 'advance', 'felicity', 'continue', 'grow', 'unlike', 'vexation', 'possible', 'defects', 'pass', 'laugh', 'sound', 'occupied', 'attentions', 'far', 'suspecting', 'becoming', 'scarcely', 'criticise', 'sooner', 'clear', 'feature', 'face', 'rendered', 'expression', 'discovery', 'succeeded', 'mortifying', 'detected', 'critical', 'failure', 'symmetry', 'forced', 'acknowledge', 'light', 'asserting', 'fashionable', 'caught', 'playfulness', 'perfectly', 'unaware', 'nowhere', 'attended', 'doing', 'notice', 'assembled', 'colonel', 'forster', 'satirical', 'approaching', 'seeming', 'intention', 'defied', 'provoking', 'energy', 'energetic', 'severe', 'turn', 'teased', 'open', 'instrument', 'follows', 'strange', 'wanting', 'play', 'sing', 'musical', 'invaluable', 'performers', 'persevering', 'gravely', 'glancing', 'saying', 'course', 'familiar', 'breath', 'cool', 'porridge', 'swell', 'song', 'performance', 'capital', 'entreaties', 'eagerly', 'plain', 'worked', 'hard', 'accomplishments', 'impatient', 'display', 'neither', 'genius', 'taste', 'application', 'pedantic', 'injured', 'higher', 'excellence', 'reached', 'playing', 'concerto', 'scotch', 'irish', 'airs', 'request', 'three', 'officers', 'joined', 'stood', 'silent', 'indignation', 'mode', 'passing', 'exclusion', 'engrossed', 'thoughts', 'thus', 'refinements', 'polished', 'society', 'vogue', 'societies', 'savage', 'performs', 'delightfully', 'pause', 'group', 'adept', 'science', 'inconsiderable', 'proper', 'pay', 'avoid', 'conclude', 'bowed', 'feel', 'paused', 'companion', 'instant', 'moving', 'action', 'gallant', 'desirable', 'refuse', 'taking', 'hand', 'surprised', 'receive', 'instantly', 'discomposure', 'entreat', 'moved', 'order', 'grave', 'propriety', 'requested', 'shake', 'attempt', 'persuasion', 'excel', 'cruel', 'deny', 'dislikes', 'oblige', 'politeness', 'smiling', 'considering', 'inducement', 'complaisance', 'archly', 'resistance', 'complacency', 'accosted', 'reverie', 'annoyed', 'insipidity', 'noise', 'nothingness', 'selfimportance', 'strictures', 'conjecture', 'totally', 'wrong', 'agreeably', 'meditating', 'pair', 'bestow', 'desired', 'inspiring', 'intrepidity', 'repeated', 'favourite', 'pray', 'exactly', 'ladys', 'imagination', 'rapid', 'jumps', 'matrimony', 'wishing', 'nay', 'serious', 'motherinlaw', 'pemberley', 'indifference', 'wit', 'flowed', 'unfortunately', 'entailed', 'default', 'heirs', 'male', 'relation', 'mothers', 'ample', 'supply', 'deficiency', 'attorney', 'phillips', 'clerk', 'line', 'convenient', 'distance', 'usually', 'thither', 'duty', 'aunt', 'milliner', 'shop', 'frequent', 'vacant', 'offered', 'amuse', 'furnish', 'bare', 'country', 'contrived', 'learn', 'supplied', 'recent', 'militia', 'regiment', 'remain', 'winter', 'headquarters', 'visits', 'productive', 'interesting', 'names', 'connections', 'lodgings', 'secret', 'length', 'visited', 'opened', 'store', 'unknown', 'animation', 'worthless', 'opposed', 'regimentals', 'ensign', 'effusions', 'coolly', 'collect', 'silliest', 'suspected', 'captain', 'carter', 'astonished', 'ready', 'slightingly', 'happens', 'sentiments', 'coincided', 'differ', 'foolish', 'red', 'smart', 'watson', 'clarke', 'prevented', 'replying', 'footman', 'note', 'servant', 'sparkled', 'calling', 'haste', 'aloud', 'compassionate', 'dine', 'today', 'louisa', 'danger', 'hating', 'lives', 'teteatete', 'quarrel', 'receipt', 'caroline', 'dining', 'horseback', 'seems', 'rain', 'stay', 'scheme', 'hursts', 'horses', 'theirs', 'coach', 'spare', 'wanted', 'farm', 'oftener', 'answered', 'extort', 'acknowledgment', 'cheerful', 'prognostics', 'rained', 'uneasy', 'intermission', 'lucky', 'aware', 'contrivance', 'breakfast', 'dearest', 'unwell', 'imputed', 'getting', 'wet', 'through', 'yesterday', 'returning', 'insist', 'jones', 'alarmed', 'sore', 'throat', 'headache', 'dangerous', 'fit', 'illness', 'die', 'comfort', 'pursuit', 'orders', 'dying', 'trifling', 'colds', 'stays', 'horsewoman', 'alternative', 'resolution', 'dirt', 'hint', 'motive', 'miles', 'activity', 'benevolence', 'impulse', 'guided', 'reason', 'exertion', 'proportion', 'required', 'accepted', 'along', 'goes', 'parted', 'repaired', 'wives', 'crossing', 'field', 'pace', 'jumping', 'stiles', 'springing', 'puddles', 'finding', 'view', 'weary', 'ankles', 'dirty', 'stockings', 'glowing', 'warmth', 'exercise', 'shown', 'breakfastparlour', 'appearance', 'created', 'weather', 'incredible', 'held', 'contempt', 'politely', 'divided', 'brilliancy', 'complexion', 'justifying', 'coming', 'latter', 'inquiries', 'favourably', 'slept', 'feverish', 'withheld', 'alarm', 'inconvenience', 'expressing', 'longed', 'besides', 'expressions', 'treated', 'silently', 'solicitude', 'showed', 'apothecary', 'examined', 'patient', 'supposed', 'cold', 'advised', 'bed', 'draughts', 'readily', 'symptoms', 'increased', 'ached', 'acutely', 'quit', 'absent', 'elsewhere', 'clock', 'unwillingly', 'pressing', 'testified', 'concern', 'parting', 'convert', 'thankfully', 'consented', 'acquaint', 'clothes', 'oclock', 'retired', 'dress', 'halfpast', 'summoned', 'poured', 'distinguishing', 'disliked', 'restored', 'enjoyment', 'anxiety', 'intruder', 'believed', 'indolent', 'cards', 'prefer', 'dish', 'ragout', 'abusing', 'impertinence', 'style', 'walker', 'wild', 'nonsensical', 'scampering', 'hair', 'untidy', 'blowsy', 'petticoat', 'inches', 'mud', 'hide', 'picture', 'exact', 'lost', 'escaped', 'inclined', 'exhibition', 'whatever', 'abominable', 'sort', 'independence', 'countrytown', 'decorum', 'shows', 'whisper', 'adventure', 'affected', 'brightened', 'speech', 'excessive', 'low', 'uncle', 'somewhere', 'cheapside', 'laughed', 'heartily', 'uncles', 'fill', 'jot', 'materially', 'lessen', 'assent', 'indulged', 'mirth', 'expense', 'vulgar', 'relations', 'renewal', 'tenderness', 'leaving', 'diningparlour', 'coffee', 'poorly', 'late', 'sleep', 'downstairs', 'drawingroom', 'loo', 'invited', 'below', 'reading', 'singular', 'despises', 'reader', 'deserve', 'censure', 'nursing', 'thanked', 'lying', 'fetch', 'afforded', 'larger', 'benefit', 'idle', 'fellow', 'assured', 'suit', 'work', 'generations', 'buying', 'comprehend', 'add', 'beauties', 'charles', 'build', 'advise', 'model', 'finer', 'buy', 'sell', 'possibilities', 'imitation', 'laying', 'wholly', 'aside', 'cardtable', 'stationed', 'observe', 'game', 'grown', 'spring', 'height', 'taller', 'pianoforte', 'exquisite', 'amazing', 'patience', 'paint', 'tables', 'cover', 'screens', 'net', 'purses', 'spoken', 'informed', 'list', 'extent', 'applied', 'deserves', 'otherwise', 'netting', 'purse', 'covering', 'screen', 'agreeing', 'estimation', 'boast', 'knowing', 'halfadozen', 'range', 'faithful', 'assistant', 'esteemed', 'surpass', 'thorough', 'music', 'singing', 'drawing', 'modern', 'languages', 'possess', 'tone', 'voice', 'halfdeserved', 'substantial', 'improvement', 'extensive', 'longer', 'sex', 'possibility', 'capacity', 'elegance', 'describe', 'injustice', 'implied', 'protesting', 'bitter', 'complaints', 'inattention', 'forward', 'undervaluing', 'succeeds', 'paltry', 'device', 'art', 'remark', 'chiefly', 'meanness', 'arts', 'condescend', 'employ', 'captivation', 'bears', 'affinity', 'cunning', 'despicable', 'worse', 'urged', 'sent', 'service', 'recommended', 'eminent', 'physicians', 'comply', 'proposal', 'decidedly', 'uncomfortable', 'miserable', 'solaced', 'wretchedness', 'duets', 'supper', 'relief', 'housekeeper', 'directions', 'chief', 'housemaid', 'amendment', 'desiring', 'contents', 'quickly', 'complied', 'accompanied', 'apparent', 'alarming', 'recovering', 'restoration', 'health', 'probably', 'remove', 'listen', 'carried', 'advisable', 'parlour', 'trespass', 'removal', 'madam', 'civility', 'remains', 'profuse', 'acknowledgments', 'become', 'suffers', 'vast', 'exception', 'sweetest', 'prospect', 'gravel', 'hurry', 'lease', 'done', 'resolve', 'pitiful', 'follow', 'intricate', 'estimable', 'run', 'suffered', 'studier', 'amusing', 'study', 'characters', 'subjects', 'move', 'confined', 'unvarying', 'alter', 'offended', 'mentioning', 'gained', 'victory', 'triumph', 'except', 'shops', 'places', 'pleasanter', 'advantages', 'blushing', 'mistook', 'variety', 'meeting', 'neighbourhoods', 'fourandtwenty', 'enable', 'delicate', 'directed', 'expressive', 'smile', 'genteel', 'persons', 'important', 'mouths', 'mincepies', 'differently', 'judge', 'pity', 'envied', 'child', 'trust', 'partiality', 'fifteen', 'gardiner', 'sisterinlaw', 'wrote', 'verses', 'overcome', 'efficacy', 'poetry', 'driving', 'food', 'stout', 'healthy', 'nourishes', 'strong', 'thin', 'inclination', 'sonnet', 'starve', 'ensued', 'tremble', 'lest', 'exposing', 'repeating', 'apology', 'troubling', 'unaffectedly', 'performed', 'graciousness', 'ordered', 'signal', 'whispering', 'result', 'tax', 'wellgrown', 'animal', 'selfconsequence', 'dinners', 'assurance', 'abruptly', 'reminded', 'adding', 'shameful', 'sudden', 'attack', 'ear', 'engagement', 'recovered', 'wait', 'shame', 'departed', 'remarks', 'prevailed', 'witticisms', 'invalid', 'slowly', 'mend', 'lootable', 'appear', 'writing', 'seated', 'watching', 'progress', 'letter', 'repeatedly', 'messages', 'piquet', 'needlework', 'amused', 'attending', 'perpetual', 'commendations', 'handwriting', 'evenness', 'unconcern', 'praises', 'formed', 'curious', 'dialogue', 'union', 'write', 'fast', 'letters', 'odious', 'lot', 'pen', 'pens', 'thank', 'contrive', 'harp', 'infinitely', 'grantleys', 'defer', 'justice', 'january', 'determine', 'rule', 'studies', 'syllables', 'writes', 'careless', 'imaginable', 'leaves', 'blots', 'flow', 'rapidly', 'convey', 'correspondents', 'humility', 'disarm', 'reproof', 'deceitful', 'carelessness', 'indirect', 'call', 'piece', 'modesty', 'proceeding', 'rapidity', 'execution', 'prized', 'possessor', 'imperfection', 'resolved', 'panegyric', 'laudable', 'precipitance', 'undone', 'assume', 'needless', 'celerity', 'conduct', 'dependent', 'mounting', 'month', 'proved', 'exceedingly', 'converting', 'sweetness', 'intend', 'flat', 'denial', 'ride', 'rashness', 'original', 'intentions', 'atoned', 'obstinacy', 'adhering', 'explain', 'allowing', 'according', 'representation', 'delay', 'offering', 'yield', 'merit', 'conviction', 'requester', 'waiting', 'arguments', 'occurs', 'discuss', 'thereupon', 'ordinary', 'change', 'complying', 'argued', 'proceed', 'arrange', 'precision', 'appertain', 'intimacy', 'subsisting', 'particulars', 'forgetting', 'comparative', 'size', 'weight', 'comparison', 'deference', 'awful', 'occasions', 'especially', 'sunday', 'checked', 'warmly', 'resented', 'indignity', 'expostulation', 'disputes', 'thankful', 'sacrifice', 'side', 'finish', 'indulgence', 'alacrity', 'polite', 'lead', 'earnestly', 'negatived', 'sang', 'musicbooks', 'lay', 'frequently', 'reprehensible', 'supposition', 'pain', 'approbation', 'italian', 'songs', 'varied', 'charm', 'seize', 'reel', 'despising', 'overthrowing', 'schemes', 'cheating', 'premeditated', 'despise', 'affront', 'amazed', 'archness', 'bewitched', 'inferiority', 'jealous', 'recovery', 'rid', 'tried', 'provoke', 'disliking', 'guest', 'planning', 'alliance', 'shrubbery', 'hints', 'takes', 'holding', 'tongue', 'compass', 'cure', 'running', 'check', 'bordering', 'conceit', 'possesses', 'propose', 'domestic', 'portraits', 'placed', 'gallery', 'greatuncle', 'profession', 'painter', 'catch', 'colour', 'shape', 'eyelashes', 'copied', 'confusion', 'abominably', 'telling', 'disengaged', 'arm', 'path', 'wide', 'avenue', 'laughingly', 'charmingly', 'grouped', 'uncommon', 'picturesque', 'spoilt', 'admitting', 'goodbye', 'ran', 'gaily', 'rejoicing', 'rambled', 'couple', 'welcomed', 'professions', 'hour', 'powers', 'considerable', 'entertainment', 'accuracy', 'relate', 'anecdote', 'advanced', 'steps', 'congratulation', 'bow', 'diffuseness', 'salutation', 'full', 'piling', 'fire', 'fireplace', 'further', 'opposite', 'corner', 'tea', 'obtained', 'petition', 'rejected', 'justify', 'stretch', 'sofas', 'principally', 'bracelets', 'rings', 'perpetually', 'inquiry', 'page', 'win', 'exhausted', 'chosen', 'volume', 'yawn', 'tires', 'yawned', 'threw', 'cast', 'quest', 'bye', 'consult', 'wishes', 'begins', 'nicholls', 'white', 'soup', 'balls', 'insufferably', 'tedious', 'usual', 'process', 'rational', 'aimed', 'inflexibly', 'studious', 'desperation', 'effort', 'example', 'refreshing', 'attitude', 'awake', 'novelty', 'quarter', 'unconsciously', 'motives', 'choosing', 'joining', 'interfere', 'surest', 'disappointing', 'incapable', 'persevered', 'requiring', 'explanation', 'explaining', 'method', 'confidence', 'affairs', 'conscious', 'figures', 'completely', 'punish', 'plague', 'tease', 'taught', 'calmness', 'presence', 'defy', 'laughter', 'expose', 'attempting', 'hug', 'loss', 'dearly', 'wisest', 'actions', 'ridicule', 'wise', 'whims', 'inconsistencies', 'divert', 'precisely', 'weaknesses', 'weakness', 'superiority', 'regulation', 'examination', 'presume', 'defect', 'owns', 'disguise', 'pretension', 'faults', 'vouch', 'convenience', 'vices', 'offenses', 'puffed', 'resentful', 'forever', 'implacable', 'shade', 'tendency', 'evil', 'education', 'willfully', 'misunderstand', 'tired', 'waking', 'moments', 'recollection', 'paying', 'agreement', 'remaining', 'tuesday', 'propitious', 'postscript', 'pressed', 'staying', 'positively', 'fearful', 'intruding', 'needlessly', 'borrow', 'communication', 'excited', 'morrow', 'proposed', 'jealousy', 'exceeded', 'master', 'sorrow', 'firm', 'welcome', 'attracted', 'uncivil', 'wisely', 'careful', 'sign', 'elevate', 'influencing', 'suggested', 'material', 'confirming', 'crushing', 'saturday', 'adhered', 'conscientiously', 'separation', 'embracing', 'tenderly', 'shook', 'hands', 'liveliest', 'cordially', 'wondered', 'trouble', 'laconic', 'circle', 'absence', 'thoroughbass', 'observations', 'threadbare', 'morality', 'preceding', 'wednesday', 'lately', 'flogged', 'hinted', 'addition', 'happen', 'lord', 'fish', 'ring', 'bell', 'hill', 'roused', 'questioned', 'explained', 'ago', 'delicacy', 'collins', 'dead', 'pleases', 'bear', 'hardest', 'entail', 'attempted', 'reach', 'rail', 'bitterly', 'cruelty', 'cared', 'iniquitous', 'affair', 'guilt', 'inheriting', 'softened', 'false', 'quarreling', 'filial', 'scruples', 'hunsford', 'westerham', 'kent', 'october', 'disagreement', 'honoured', 'uneasiness', 'heal', 'breach', 'kept', 'doubts', 'fearing', 'disrespectful', 'memory', 'variance', 'ordination', 'easter', 'patronage', 'honourable', 'de', 'bourgh', 'widow', 'lewis', 'bounty', 'beneficence', 'preferred', 'rectory', 'parish', 'earnest', 'demean', 'grateful', 'ladyship', 'perform', 'rites', 'ceremonies', 'instituted', 'church', 'clergyman', 'moreover', 'promote', 'establish', 'blessing', 'peace', 'grounds', 'overtures', 'commendable', 'kindly', 'overlooked', 'reject', 'olivebranch', 'concerned', 'injuring', 'apologise', 'readiness', 'hereafter', 'satisfaction', 'november', 'hospitality', 'seennight', 'objecting', 'occasional', 'respectful', 'wellwisher', 'peacemaking', 'folded', 'conscientious', 'prove', 'indulgent', 'discourage', 'atonement', 'thinks', 'christening', 'burying', 'parishioners', 'oddity', 'pompous', 'apologising', 'reverse', 'servility', 'promises', 'composition', 'defective', 'writer', 'scarlet', 'weeks', 'illwill', 'preparing', 'punctual', 'need', 'heavylooking', 'fiveandtwenty', 'stately', 'formal', 'complimented', 'instance', 'fame', 'fallen', 'hearers', 'quarreled', 'destitute', 'oddly', 'allude', 'grievous', 'confess', 'estates', 'hardship', 'fair', 'cousins', 'appearing', 'precipitate', 'prepared', 'summons', 'objects', 'hall', 'diningroom', 'furniture', 'praised', 'touched', 'viewing', 'future', 'begged', 'excellency', 'cooking', 'owing', 'asperity', 'cook', 'kitchen', 'pardon', 'displeased', 'withdrawn', 'started', 'shine', 'patroness', 'remarkable', 'eloquent', 'elevated', 'solemnity', 'aspect', 'witnessed', 'affability', 'condescension', 'experienced', 'graciously', 'discourses', 'preaching', 'rosings', 'pool', 'quadrille', 'reckoned', 'condescended', 'marry', 'humble', 'parsonage', 'approved', 'alterations', 'vouchsafed', 'suggest', 'shelves', 'closet', 'stairs', 'garden', 'stands', 'abode', 'separated', 'lane', 'heiress', 'shaking', 'handsomest', 'marks', 'birth', 'sickly', 'constitution', 'failed', 'superintended', 'resides', 'condescends', 'drive', 'phaeton', 'ponies', 'presented', 'court', 'indifferent', 'state', 'unhappily', 'prevents', 'deprived', 'british', 'brightest', 'ornament', 'acceptable', 'born', 'duchess', 'adorned', 'peculiarly', 'bound', 'properly', 'talent', 'flattering', 'previous', 'arise', 'suggesting', 'arranging', 'adapted', 'unstudied', 'fully', 'absurd', 'keenest', 'maintaining', 'resolute', 'glance', 'teatime', 'dose', 'invite', 'assented', 'beholding', 'announced', 'circulating', 'begging', 'novels', 'exclaimed', 'deliberation', 'fordyce', 'sermons', 'gaped', 'monotonous', 'pages', 'talks', 'richard', 'hire', 'denny', 'bid', 'hold', 'interested', 'stamp', 'written', 'amazes', 'advantageous', 'instruction', 'importune', 'antagonist', 'backgammon', 'challenge', 'acted', 'amusements', 'apologised', 'civilly', 'lydias', 'interruption', 'occur', 'resume', 'bore', 'resent', 'assisted', 'guidance', 'illiterate', 'miserly', 'belonged', 'universities', 'forming', 'useful', 'subjection', 'originally', 'counteracted', 'selfconceit', 'weak', 'living', 'retirement', 'consequential', 'unexpected', 'prosperity', 'veneration', 'mingling', 'authority', 'rector', 'obsequiousness', 'income', 'seeking', 'reconciliation', 'represented', 'fathers', 'eligibility', 'suitableness', 'generous', 'disinterested', 'vary', 'lovely', 'confirmed', 'strictest', 'notions', 'seniority', 'alteration', 'beginning', 'parsonagehouse', 'naturally', 'avowal', 'mistress', 'amid', 'complaisant', 'caution', 'prepossession', 'incumbent', 'stirring', 'treasured', 'trusted', 'graces', 'forgotten', 'attend', 'nominally', 'largest', 'folios', 'cessation', 'doings', 'discomposed', 'tranquillity', 'folly', 'free', 'prompt', 'fitted', 'nothings', 'assents', 'ones', 'wandering', 'street', 'bonnet', 'muslin', 'recall', 'officer', 'concerning', 'inquire', 'led', 'across', 'pretense', 'fortunately', 'pavement', 'spot', 'entreated', 'permission', 'wickham', 'commission', 'corps', 'correct', 'unassuming', 'riding', 'civilities', 'spokesman', 'corroborated', 'fix', 'arrested', 'happening', 'effect', 'changed', 'minute', 'noticed', 'phillip', 'bows', 'throwing', 'loudly', 'seconding', 'fetched', 'happened', 'shopboy', 'claimed', 'intrusion', 'justified', 'relationship', 'awed', 'excess', 'contemplation', 'exclamations', 'lieutenant', 'shire', 'occupation', 'unluckily', 'windows', 'fellows', 'phillipses', 'nice', 'comfortable', 'noisy', 'lottery', 'tickets', 'hot', 'delights', 'cheering', 'mutual', 'apologies', 'unwearying', 'defended', 'admiring', 'utmost', 'pointedly', 'although', 'utterly', 'attributed', 'connection', 'steadily', 'resisted', 'conveyed', 'suitable', 'seats', 'around', 'apartment', 'summer', 'gratification', 'understood', 'proprietor', 'drawingrooms', 'chimneypiece', 'eight', 'force', 'describing', 'grandeur', 'mansion', 'digressions', 'improvements', 'receiving', 'until', 'listener', 'resolving', 'retail', 'neighbours', 'examine', 'imitations', 'china', 'mantelpiece', 'interval', 'approach', 'unreasonable', 'creditable', 'broadfaced', 'stuffy', 'breathing', 'port', 'female', 'finally', 'fell', 'commonest', 'dullest', 'topic', 'speaker', 'rivals', 'sink', 'insignificance', 'intervals', 'watchfulness', 'abundantly', 'muffin', 'cardtables', 'whist', 'improve', 'compliance', 'engrossing', 'talker', 'eager', 'bets', 'exclaiming', 'prizes', 'demands', 'willing', 'history', 'dared', 'unexpectedly', 'relieved', 'hesitating', 'drop', 'per', 'annum', 'capable', 'connected', 'infancy', 'assertion', 'qualified', 'impartial', 'astonish', 'disgusted', 'estimated', 'deserts', 'blinded', 'frightened', 'imposing', 'illtempered', 'plans', 'driven', 'gives', 'avoiding', 'proclaim', 'illusage', 'painful', 'regrets', 'breathed', 'truest', 'soul', 'tender', 'recollections', 'scandalous', 'verily', 'disgracing', 'increase', 'topics', 'gentle', 'intelligible', 'constant', 'enter', 'quarters', 'procured', 'solitude', 'employment', 'military', 'circumstances', 'eligible', 'bequeathed', 'gift', 'godfather', 'attached', 'provide', 'amply', 'heavens', 'disregarded', 'legal', 'redress', 'informality', 'bequest', 'law', 'doubted', 'treat', 'conditional', 'assert', 'forfeited', 'claim', 'extravagance', 'imprudence', 'became', 'accuse', 'warm', 'unguarded', 'hates', 'publicly', 'disgraced', 'induced', 'behave', 'cruelly', 'attribute', 'measure', 'son', 'borne', 'irritated', 'competition', 'fellowcreatures', 'suspect', 'descending', 'malicious', 'revenge', 'inhumanity', 'boasting', 'implacability', 'resentments', 'unforgiving', 'dreadful', 'godson', 'contented', 'childhood', 'closest', 'youth', 'inmates', 'sharing', 'parental', 'appears', 'devoted', 'confidential', 'obligations', 'active', 'superintendence', 'death', 'voluntary', 'providing', 'debt', 'dishonest', 'dishonesty', 'wonderful', 'traced', 'nearer', 'virtue', 'consistent', 'stronger', 'impulses', 'liberal', 'money', 'assist', 'tenants', 'relieve', 'disgrace', 'degenerate', 'popular', 'powerful', 'brotherly', 'guardian', 'brothers', 'affectionate', 'sixteen', 'superintends', 'pauses', 'trials', 'reverting', 'truly', 'sweettempered', 'abilities', 'conversible', 'equals', 'prosperous', 'liberalminded', 'sincere', 'breaking', 'players', 'gathered', 'station', 'gravity', 'mere', 'trifle', 'chances', 'shillings', 'necessity', 'regarding', 'matters', 'intimately', 'anne', 'catherines', 'existence', 'unite', 'useless', 'selfdestined', 'misleads', 'arrogant', 'dictatorial', 'insolent', 'reputation', 'derives', 'authoritative', 'nephew', 'everyone', 'class', 'gracefully', 'went', 'incessantly', 'won', 'losses', 'enumerating', 'dishes', 'crowded', 'manage', 'stopped', 'veracity', 'endured', 'unkindness', 'defend', 'accident', 'deceived', 'misrepresented', 'causes', 'alienated', 'actual', 'blame', 'behalf', 'disgraceful', 'treating', 'humanity', 'imposed', 'invent', 'facts', 'ceremony', 'contradict', 'looks', 'distressing', 'knows', 'certainty', 'personal', 'longexpected', 'rising', 'hurrying', 'ceremonious', 'card', 'pictured', 'confirmation', 'anticipated', 'depended', 'satisfy', 'rate', 'disinclination', 'mornings', 'engagements', 'claims', 'profess', 'recreation', 'unnecessarily', 'scruple', 'dreading', 'rebuke', 'archbishop', 'venturing', 'soliciting', 'cause', 'disrespect', 'liveliness', 'timed', 'perforce', 'delayed', 'grace', 'selected', 'worthy', 'assisting', 'visitors', 'increasing', 'vivacity', 'charms', 'dispute', 'prepare', 'pitiable', 'succession', 'sought', 'shoeroses', 'proxy', 'trial', 'suspended', 'friday', 'endurable', 'cluster', 'coats', 'occurred', 'unreasonably', 'dressed', 'conquest', 'unsubdued', 'trusting', 'arose', 'suspicion', 'purposely', 'omitted', 'darcys', 'bingleys', 'absolute', 'significant', 'unheard', 'answerable', 'surmise', 'displeasure', 'immediate', 'disappointment', 'approached', 'attendance', 'forbearance', 'injury', 'illhumour', 'surmount', 'provoked', 'destroyed', 'dwell', 'griefs', 'transition', 'oddities', 'distress', 'mortification', 'awkward', 'solemn', 'misery', 'ecstasy', 'refreshment', 'fret', 'console', 'forbid', 'recommenced', 'cautioning', 'unpleasant', 'dignity', 'amazement', 'break', 'couples', 'arranged', 'consulting', 'gratifying', 'similarity', 'unsocial', 'taciturn', 'amaze', 'handed', 'posterity', 'eclat', 'proverb', 'striking', 'resemblance', 'portrait', 'decide', 'affirmative', 'resist', 'temptation', 'deeper', 'hauteur', 'overspread', 'blaming', 'constrained', 'blessed', 'ensure', 'retaining', 'emphasis', 'desirous', 'changing', 'perceiving', 'courtesy', 'belong', 'circles', 'congratulations', 'appeal', 'interrupt', 'detaining', 'bewitching', 'bright', 'upbraiding', 'allusion', 'strike', 'forcibly', 'shortly', 'compare', 'ballroom', 'occupies', 'scenes', 'wandered', 'forgave', 'unappeasable', 'judging', 'tend', 'illustration', 'endeavouring', 'trying', 'accounts', 'puzzle', 'reports', 'sketch', 'reflect', 'likeness', 'suspend', 'breast', 'anger', 'disdain', 'george', 'forgot', 'steward', 'implicit', 'assertions', 'using', 'infamous', 'including', 'descent', 'angrily', 'sneer', 'interference', 'wilful', 'ignorance', 'malice', 'undertaken', 'glow', 'marked', 'occurrences', 'enemies', 'fairest', 'probity', 'deserved', 'imprudent', 'recollect', 'believes', 'conditionally', 'sincerity', 'assurances', 'defense', 'unacquainted', 'discourse', 'sentiment', 'modest', 'heighten', 'pleasantness', 'exultation', 'overhear', 'honours', 'respects', 'total', 'plead', 'earlier', 'sennight', 'dissuade', 'addressing', 'freedom', 'ceased', 'scope', 'permit', 'laity', 'regulate', 'clergy', 'clerical', 'maintained', 'dictates', 'conscience', 'leads', 'neglecting', 'profit', 'guide', 'habitual', 'reception', 'advances', 'watched', 'prefaced', 'motion', 'eyeing', 'unrestrained', 'discouraged', 'discernment', 'unworthily', 'pursue', 'train', 'plainly', 'bent', 'perverseness', 'openly', 'expectation', 'animating', 'fatigue', 'match', 'points', 'selfgratulation', 'promising', 'lastly', 'consign', 'etiquette', 'concluded', 'evidently', 'triumphantly', 'believing', 'audible', 'inexpressible', 'scolded', 'owe', 'lower', 'blushed', 'dreaded', 'invariably', 'gradually', 'indignant', 'composed', 'yawning', 'repetition', 'likelihood', 'comforts', 'ham', 'chicken', 'revive', 'entreaty', 'prevent', 'proof', 'exhibiting', 'elizabeths', 'sensations', 'stanzas', 'impatience', 'rewarded', 'agonies', 'composedly', 'signs', 'derision', 'imperturbably', 'finished', 'exhibit', 'pretending', 'innocent', 'diversion', 'compatible', 'devoting', 'tithes', 'beneficial', 'offensive', 'patron', 'duties', 'dwelling', 'excused', 'conciliatory', 'owes', 'preferment', 'acquit', 'omit', 'testifying', 'loud', 'seriously', 'commended', 'sensibly', 'halfwhisper', 'distressed', 'ridiculing', 'perseveringly', 'prevail', 'arguing', 'owed', 'goodnaturedly', 'probable', 'allusions', 'rejoiced', 'depart', 'manoeuvre', 'complain', 'repulsed', 'languor', 'speeches', 'complimenting', 'guests', 'enjoying', 'scene', 'detached', 'preserved', 'utter', 'pressingly', 'eating', 'whither', 'quitted', 'preparations', 'settlements', 'carriages', 'wedding', 'months', 'eclipsed', 'declaration', 'extended', 'diffidence', 'orderly', 'observances', 'regular', 'solicit', 'audience', 'blush', 'gathering', 'hastening', 'embarrassed', 'oppose', 'injunction', 'quietly', 'incessant', 'disservice', 'adds', 'perfections', 'unwillingness', 'respected', 'purport', 'dissemble', 'singled', 'reasons', 'selecting', 'laughing', 'stop', 'secondly', 'thirdly', 'unasked', 'pools', 'jenkinson', 'footstool', 'gentlewoman', 'reckon', 'tempered', 'inevitably', 'excite', 'inherit', 'melancholy', 'esteem', 'animated', 'violence', 'demand', 'cents', 'decease', 'uniformly', 'ungenerous', 'reproach', 'proposals', 'wave', 'addresses', 'secretly', 'applies', 'refusal', 'altar', 'ere', 'daring', 'risk', 'persuaded', 'disapprove', 'economy', 'qualification', 'unnecessary', 'refusing', 'falls', 'selfreproach', 'accusing', 'custom', 'encourage', 'hitherto', 'convince', 'briefly', 'acceptance', 'manifold', 'attractions', 'portion', 'undo', 'effects', 'loveliness', 'qualifications', 'rejection', 'suspense', 'practice', 'females', 'pretensions', 'consists', 'tormenting', 'plainer', 'intending', 'sanctioned', 'parents', 'fail', 'perseverance', 'selfdeception', 'persisted', 'refusals', 'apply', 'negative', 'uttered', 'decisive', 'coquetry', 'successful', 'dawdled', 'vestibule', 'watch', 'conference', 'staircase', 'breakfastroom', 'congratulated', 'felicitations', 'proceeded', 'interview', 'steadfastly', 'bashful', 'genuine', 'startled', 'headstrong', 'interrupting', 'persists', 'rejecting', 'accepting', 'liable', 'contribute', 'goodnatured', 'settle', 'uproar', 'vows', 'calm', 'altered', 'declares', 'hopeless', 'rang', 'refused', 'insists', 'unhappy', 'conclusion', 'regarded', 'favours', 'coaxed', 'threatened', 'turns', 'endeavoured', 'mildness', 'interfering', 'earnestness', 'gaiety', 'attacks', 'determination', 'meanwhile', 'hurt', 'deserving', 'regret', 'fun', 'entreating', 'spared', 'unconcerned', 'caring', 'york', 'maintain', 'warn', 'undutiful', 'pitied', 'effusion', 'soothe', 'irritation', 'tongues', 'ground', 'detained', 'doleful', 'projected', 'presently', 'resignation', 'inevitable', 'evils', 'peculiar', 'resigned', 'positive', 'denied', 'showing', 'withdrawing', 'requesting', 'interpose', 'objectionable', 'dismission', 'error', 'discussion', 'necessarily', 'peevish', 'embarrassment', 'dejection', 'assiduous', 'transferred', 'seasonable', 'abatement', 'shorten', 'lament', 'voluntarily', 'selfimposed', 'bestowed', 'accompanying', 'double', 'introducing', 'delivered', 'envelope', 'contained', 'sheet', 'hotpressed', 'paper', 'covered', 'flowing', 'intently', 'passages', 'recollected', 'putting', 'contains', 'sentence', 'comprised', 'grosvenor', 'returns', 'intercourse', 'correspondence', 'highflown', 'insensibility', 'distrust', 'suddenness', 'cease', 'arrive', 'renewed', 'imagined', 'gets', 'comfortless', 'hotel', 'crowd', 'despair', 'sincerely', 'christmas', 'abound', 'gaieties', 'season', 'brings', 'beaux', 'numerous', 'deprive', 'passage', 'hurts', 'reserves', 'georgiana', 'inspires', 'heightened', 'confiding', 'admires', 'footing', 'misleading', 'engaging', 'indulging', 'expressly', 'expects', 'suspects', 'willingly', 'wants', 'keeping', 'tries', 'grand', 'notion', 'intermarriage', 'achieving', 'ingenuity', 'succeed', 'tells', 'alike', 'foundation', 'unjust', 'wilfully', 'deceiving', 'supposing', 'mature', 'disobliging', 'equivalent', 'faintly', 'disapprobation', 'hesitate', 'suggestion', 'carolines', 'artfully', 'independent', 'desponding', 'overcame', 'departure', 'bewailed', 'lamenting', 'thanking', 'keeps', 'repaid', 'farther', 'conception', 'appearances', 'admirable', 'slyness', 'hasten', 'feet', 'encouraging', 'comparatively', 'diffident', 'perceived', 'accidentally', 'eloquence', 'awaited', 'happiest', 'solicitation', 'waived', 'stupidity', 'favoured', 'courtship', 'continuance', 'pure', 'speedily', 'joyful', 'prospects', 'wealth', 'calculate', 'expedient', 'overjoyed', 'boys', 'apprehension', 'charlottes', 'maid', 'irksome', 'provision', 'welleducated', 'pleasantest', 'preservative', 'luck', 'valued', 'shaken', 'charged', 'secrecy', 'dutifully', 'difficulty', 'burst', 'forth', 'direct', 'evade', 'exercising', 'selfdenial', 'longing', 'publish', 'journey', 'leavetaking', 'cordiality', 'hoping', 'avail', 'speedy', 'offending', 'concurrence', 'offence', 'mark', 'meditated', 'rated', 'encouraged', 'hers', 'bounds', 'crying', 'commanded', 'momentary', 'regained', 'calmly', 'procure', 'firmness', 'romantic', 'collinss', 'reconciled', 'unsuitable', 'strangeness', 'offers', 'sacrificed', 'worldly', 'humiliating', 'pang', 'sunk', 'reflecting', 'doubting', 'authorised', 'announce', 'houses', 'wondering', 'incredulous', 'boisterously', 'courtier', 'forbearing', 'confirm', 'prior', 'overpowered', 'vent', 'disbelieving', 'fourthly', 'broken', 'inferences', 'deduced', 'mischief', 'barbarously', 'misused', 'dwelt', 'appease', 'wear', 'elapsed', 'rude', 'emotions', 'tranquil', 'confessed', 'improbable', 'envying', 'spread', 'insensible', 'retort', 'sour', 'illnatured', 'restraint', 'mutually', 'subsist', 'fonder', 'rectitude', 'daily', 'counting', 'reasonably', 'prompted', 'discharging', 'inform', 'rapturous', 'unanswerable', 'inconvenient', 'troublesome', 'hated', 'lovers', 'murmurs', 'bringing', 'tidings', 'incensed', 'falsehood', 'admit', 'destructive', 'dishonorable', 'stability', 'lover', 'occurring', 'efforts', 'unfeeling', 'overpowering', 'feared', 'concealing', 'alluded', 'restrained', 'seldom', 'require', 'needed', 'punctually', 'gracious', 'luckily', 'lovemaking', 'agony', 'successor', 'abhorrence', 'anticipating', 'complained', 'gloomy', 'survivor', 'consoling', 'professed', 'boasted', 'joyfully', 'ventured', 'predict', 'accomplishment', 'inmate', 'communicated', 'slave', 'designing', 'sport', 'involved', 'unavailing', 'died', 'suppressed', 'wounded', 'courage', 'continual', 'repine', 'slightly', 'colouring', 'try', 'harm', 'disinterestedness', 'angelic', 'disclaimed', 'encroaching', 'privilege', 'universal', 'fewer', 'confirms', 'belief', 'inconsistency', 'dependence', 'instances', 'unaccountable', 'ruin', 'allowance', 'respectability', 'prudent', 'benefited', 'narrowminded', 'individual', 'principle', 'integrity', 'selfishness', 'prudence', 'security', 'intentionally', 'circumspect', 'deceives', 'designedly', 'attributing', 'scheming', 'thoughtlessness', 'impute', 'displease', 'whilst', 'persist', 'conjunction', 'position', 'unlikely', 'unnaturally', 'ashamed', 'clearly', 'perplexity', 'transient', 'liking', 'statement', 'repeat', 'crossed', 'congratulate', 'companions', 'outdone', 'disappoint', 'jilt', 'creditably', 'befall', 'dispelling', 'gloom', 'perverse', 'thrown', 'recommendations', 'unreserve', 'canvassed', 'extenuating', 'mild', 'pleaded', 'allowances', 'mistakes', 'condemned', 'worst', 'alleviated', 'bride', 'warehouses', 'subsisted', 'distribute', 'presents', 'newest', 'fashions', 'grievances', 'illused', 'artful', 'thwarted', 'sleeves', 'separates', 'forgets', 'violently', 'hackneyed', 'indefinite', 'growing', 'inattentive', 'incivility', 'essence', 'acquiescence', 'custody', 'gracechurch', 'ablution', 'cleanse', 'impurities', 'stirs', 'correspond', 'reanimated', 'successfully', 'combated', 'gardiners', 'stayed', 'carefully', 'suspicious', 'narrowly', 'affording', 'unconnected', 'dozen', 'fresher', 'procuring', 'inexhaustible', 'comparing', 'bestowing', 'tribute', 'delighting', 'gentlemans', 'reputed', 'lad', 'confident', 'fitzwilliam', 'warned', 'involve', 'becomes', 'forfeit', 'wiser', 'wisdom', 'remind', 'refrain', 'thursday', 'farewell', 'rose', 'ungracious', 'reluctant', 'foresaw', 'bridegroom', 'slacken', 'correspondent', 'eagerness', 'pronounce', 'foreseen', 'cheerfully', 'surrounded', 'roads', 'rationally', 'accounted', 'reproached', 'inventing', 'fresh', 'visitor', 'shortness', 'deceive', 'triumphing', 'obstinate', 'meantime', 'singling', 'deservedly', 'harshly', 'duplicity', 'banish', 'invariable', 'duped', 'review', 'contentment', 'subsided', 'admirer', 'watchful', 'permitted', 'acquisition', 'rendering', 'clearsighted', 'struggles', 'relinquish', 'relating', 'elevating', 'passion', 'effectual', 'distractedly', 'purchased', 'defection', 'events', 'diversified', 'walks', 'february', 'depending', 'learned', 'weakened', 'uncompanionable', 'faultless', 'unwelcome', 'peep', 'smoothly', 'accompany', 'bidding', 'adieu', 'reminding', 'coincide', 'attach', 'fellowtravellers', 'emptyheaded', 'rattle', 'absurdities', 'wonders', 'worn', 'twentyfour', 'noon', 'drove', 'healthful', 'troop', 'shyness', 'bustle', 'shopping', 'theatres', 'struggled', 'support', 'periods', 'reasonable', 'conversations', 'rallied', 'niece', 'desertion', 'bearing', 'mercenary', 'matrimonial', 'avarice', 'grandfather', 'allowable', 'gain', 'affections', 'indelicacy', 'directing', 'decorums', 'savours', 'tour', 'carry', 'lakes', 'rapturously', 'vigour', 'spleen', 'rocks', 'mountains', 'transport', 'travellers', 'accurate', 'rivers', 'jumbled', 'imaginations', 'relative', 'generality', 'northern', 'source', 'road', 'search', 'palings', 'boundary', 'discernible', 'sloping', 'green', 'pales', 'laurel', 'hedge', 'arriving', 'gate', 'amidst', 'nods', 'affectionately', 'pointing', 'neatness', 'ostentatious', 'wifes', 'glory', 'displaying', 'neat', 'gratify', 'sigh', 'repentance', 'unseldom', 'involuntarily', 'discern', 'faint', 'article', 'sideboard', 'fender', 'stroll', 'cultivation', 'pleasures', 'healthfulness', 'owned', 'cross', 'pointed', 'minuteness', 'fields', 'direction', 'trees', 'clump', 'bordered', 'front', 'building', 'situated', 'meadows', 'shoes', 'encounter', 'frost', 'husbands', 'built', 'consistency', 'throughout', 'ensuing', 'hesitation', 'include', 'regularly', 'chamber', 'meditate', 'guiding', 'anticipate', 'quiet', 'tenor', 'employments', 'vexatious', 'interruptions', 'middle', 'landing', 'breathless', 'agitation', 'fronted', 'stopping', 'pigs', 'la', 'shocked', 'doors', 'wind', 'doorway', 'greatness', 'constantly', 'bowing', 'letting', 'acquire', 'instructing', 'overpower', 'separating', 'toilette', 'apparel', 'simply', 'dressing', 'objected', 'formidable', 'inspire', 'enumeration', 'glazing', 'ascended', 'talents', 'miraculous', 'stateliness', 'witness', 'trepidation', 'entrancehall', 'ornaments', 'antechamber', 'seat', 'senses', 'edge', 'chair', 'stronglymarked', 'conciliating', 'inferior', 'examining', 'deportment', 'pale', 'insignificant', 'placing', 'informing', 'articles', 'plate', 'foretold', 'bottom', 'carved', 'ate', 'echo', 'soninlaw', 'dinnertime', 'indisposed', 'delivering', 'controverted', 'concerns', 'familiarly', 'minutely', 'management', 'regulated', 'instructed', 'cows', 'poultry', 'beneath', 'dictating', 'older', 'maiden', 'entailing', 'webbs', 'masters', 'governess', 'neglected', 'strenuously', 'supplying', 'metcalfs', 'finds', 'pope', 'treasure', 'elder', 'lastborn', 'sisterly', 'dignified', 'oneandtwenty', 'cassino', 'superlatively', 'syllable', 'stating', 'storing', 'anecdotes', 'played', 'gratefully', 'instructions', 'thankfulness', 'costing', 'comfortably', 'possessing', 'gig', 'bookroom', 'backwards', 'sized', 'arrangement', 'distinguish', 'indebted', 'unfrequently', 'livings', 'negligence', 'joints', 'meat', 'magistrate', 'minutest', 'cottagers', 'quarrelsome', 'sallied', 'differences', 'scold', 'harmony', 'plenty', 'counterpart', 'halfhours', 'grove', 'edged', 'sheltered', 'designs', 'destined', 'lodges', 'hurried', 'hastened', 'nephews', 'disclaim', 'doorbell', 'thirty', 'curtseyed', 'awakened', 'betray', 'consciousness', 'confused', 'pursued', 'considerably', 'easterday', 'travelling', 'conversed', 'shared', 'proficient', 'proficiency', 'practises', 'charge', 'illbreeding', 'arch', 'frighten', 'stubbornness', 'rises', 'intimidate', 'professing', 'teach', 'impolitic', 'retaliate', 'shock', 'smilingly', 'behaves', 'strangers', 'scarce', 'fingers', 'judged', 'illqualified', 'applying', 'masterly', 'produce', 'practising', 'amiss', 'practised', 'fingering', 'performer', 'symptom', 'derived', 'mixing', 'halffinished', 'sinking', 'emergence', 'recollecting', 'rejoice', 'prudential', 'fifty', 'varying', 'expenses', 'unimportant', 'journeys', 'local', 'newspaper', 'colder', 'concise', 'occasioned', 'conjectures', 'sports', 'billiardtable', 'nearness', 'separately', 'captivating', 'softness', 'disputable', 'steadfast', 'gaze', 'raising', 'vanish', 'counterbalance', 'ramble', 'mischance', 'haunt', 'illnature', 'penance', 'rencontre', 'solitary', 'imply', 'perusing', 'forcing', 'accordingly', 'disposal', 'arranges', 'feelingly', 'inured', 'earl', 'hardships', 'sons', 'habits', 'afford', 'coloured', 'price', 'dropped', 'someone', 'lasting', 'sole', 'divide', 'guardianship', 'guardians', 'tractable', 'creatures', 'drily', 'prodigious', 'hither', 'saved', 'inconveniences', 'scrape', 'objections', 'separate', 'swelling', 'thoughtful', 'officious', 'condemn', 'unnatural', 'lessening', 'sadly', 'jestingly', 'exist', 'boundless', 'measures', 'mislead', 'ruined', 'inflicted', 'goodness', 'improved', 'peculiarities', 'wound', 'partly', 'governed', 'tears', 'exasperate', 'complaint', 'revival', 'past', 'suffering', 'characterise', 'serenity', 'clouded', 'conveying', 'perusal', 'inflict', 'keener', 'sufferings', 'remembering', 'fluttered', 'banished', 'imputing', 'agitated', 'repressed', 'ardently', 'detailed', 'degradation', 'obstacles', 'wounding', 'deeplyrooted', 'subsequent', 'compose', 'representing', 'endeavours', 'conquer', 'cheeks', 'obligation', 'avowed', 'unequally', 'duration', 'overcoming', 'leaning', 'disturbance', 'visible', 'struggling', 'attained', 'expecting', 'insulting', 'provocations', 'ruining', 'beloved', 'emotion', 'dividing', 'instability', 'involving', 'acutest', 'unmoved', 'remorse', 'incredulity', 'assumed', 'denying', 'kinder', 'disdained', 'noticing', 'conciliate', 'founded', 'recital', 'misrepresentation', 'misfortunes', 'contemptuously', 'infliction', 'reduced', 'poverty', 'designed', 'desert', 'calculation', 'heavy', 'honest', 'confession', 'accusations', 'policy', 'concealed', 'impelled', 'unqualified', 'unalloyed', 'condition', 'behaved', 'obvious', 'mingled', 'impressing', 'fullest', 'arrogance', 'groundwork', 'succeeding', 'immovable', 'hastily', 'painfully', 'reflected', 'inspired', 'shameless', 'unpardonable', 'acknowledging', 'unequal', 'awoke', 'meditations', 'recover', 'indulge', 'turnpikeroad', 'paling', 'gates', 'verdure', 'continuing', 'glimpse', 'retreating', 'stepping', 'instinctively', 'plantation', 'strongest', 'containing', 'sheets', 'letterpaper', 'pursuing', 'dated', 'disgusting', 'paining', 'humbling', 'formation', 'magnitude', 'defiance', 'blasted', 'wantonly', 'depravity', 'growth', 'severity', 'liberally', 'respecting', 'secured', 'obeyed', 'rise', 'undecided', 'attentively', 'scrutiny', 'participation', 'misled', 'acute', 'observer', 'investigation', 'decisions', 'influenced', 'repugnance', 'existing', 'stated', 'betrayed', 'pains', 'nearest', 'conducted', 'yourselves', 'preserve', 'coincidence', 'detaching', 'described', 'enforced', 'remonstrance', 'staggered', 'ultimately', 'seconded', 'hesitated', 'extinguished', 'concealment', 'unknowingly', 'weighty', 'accusation', 'refute', 'accused', 'summon', 'undoubted', 'discharge', 'supported', 'school', 'cambridge', 'vicious', 'propensities', 'opportunities', 'unfolding', 'advancement', 'legacy', 'survive', 'pecuniary', 'lieu', 'therein', 'accede', 'dissolved', 'pretence', 'idleness', 'dissipation', 'unprofitable', 'ordained', 'revered', 'resisting', 'doubtless', 'reproaches', 'obtruded', 'induce', 'unfold', 'junior', 'presided', 'ramsgate', 'younge', 'connivance', 'aid', 'retained', 'impression', 'elopement', 'grieving', 'exposure', 'unquestionably', 'revenging', 'narrative', 'henceforth', 'previously', 'detection', 'revealed', 'testimony', 'executors', 'unavoidably', 'transactions', 'valueless', 'bless', 'contrariety', 'defined', 'comprehension', 'penitent', 'insolence', 'clearer', 'overthrow', 'cherished', 'definition', 'horror', 'oppressed', 'discredit', 'grossest', 'perturbed', 'collecting', 'recalled', 'gross', 'err', 'reread', 'resigning', 'sum', 'weighed', 'impartiality', 'deliberated', 'sides', 'blameless', 'profligacy', 'scrupled', 'inquiring', 'trait', 'rescue', 'predominance', 'atone', 'casual', 'errors', 'vice', 'befriended', 'social', 'mess', 'pausing', 'alas', 'referred', 'awkwardness', 'hazarded', 'corroboration', 'remembered', 'impropriety', 'communications', 'avoided', 'discussed', 'hatefully', 'mediocrity', 'moderation', 'grasp', 'incautiously', 'lingering', 'struggle', 'fainter', 'justification', 'asserted', 'blamelessness', 'repulsive', 'latterly', 'unprincipled', 'irreligious', 'immoral', 'violation', 'incomprehensible', 'prejudiced', 'despicably', 'prided', 'blameable', 'mistrust', 'humiliation', 'wretchedly', 'courted', 'widely', 'unsuspicious', 'fervent', 'displayed', 'sensibility', 'merited', 'unfelt', 'soothed', 'selfattracted', 'depressed', 'reconsidering', 'probabilities', 'reconciling', 'repressing', 'unfit', 'missing', 'obeisance', 'message', 'importing', 'dull', 'diminution', 'increases', 'accounting', 'dawson', 'barouchebox', 'abide', 'post', 'improper', 'menservants', 'john', 'discreditable', 'manservant', 'bromley', 'studied', 'unjustly', 'upbraided', 'repent', 'slightest', 'heavier', 'chagrin', 'remedy', 'exert', 'restrain', 'giddiness', 'weakspirited', 'irritable', 'affronted', 'selfwilled', 'flirt', 'prevailing', 'restoring', 'cleared', 'implicitness', 'replete', 'indecorum', 'development', 'wickhams', 'packing', 'urgent', 'gowns', 'trunk', 'afresh', 'exerted', 'curtsey', 'deemed', 'indispensably', 'domestics', 'unpleasantly', 'disagreeably', 'disadvantages', 'abiding', 'sharers', 'elevation', 'sentences', 'drawn', 'unfortunate', 'firmly', 'sprang', 'regretting', 'trunks', 'fastened', 'parcels', 'commissioning', 'consternation', 'drinking', 'privately', 'revealing', 'conquered', 'indecision', 'grieve', 'appointed', 'inn', 'token', 'coachmans', 'punctuality', 'sentinel', 'salad', 'cucumber', 'welcoming', 'larder', 'affords', 'lend', 'ours', 'purchases', 'bought', 'pull', 'abused', 'ugly', 'uglier', 'prettiercoloured', 'satin', 'trim', 'signify', 'wears', 'encamped', 'brighton', 'papa', 'delicious', 'campful', 'soldiers', 'overset', 'monthly', 'waiter', 'hears', 'chin', 'liverpool', 'fool', 'straws', 'nasty', 'freckled', 'coarseness', 'harboured', 'boxes', 'workbags', 'nicely', 'crammed', 'bandbox', 'snug', 'flirting', 'ca', 'chaperon', 'harringtons', 'harriet', 'chamberlayne', 'pratt', 'kinds', 'histories', 'jokes', 'additions', 'escaping', 'undiminished', 'welfare', 'doubly', 'retailing', 'louder', 'blinds', 'pretended', 'handsomely', 'nicest', 'luncheon', 'merry', 'depreciate', 'congenial', 'afternoon', 'answers', 'vague', 'equivocal', 'disheartened', 'despaired', 'suppress', 'lessened', 'unhappiness', 'stroke', 'wickedness', 'existed', 'race', 'mankind', 'collected', 'vindication', 'labour', 'quantity', 'shifting', 'extorted', 'profusion', 'saving', 'feather', 'gentleness', 'mismanagement', 'spur', 'abusive', 'stumbling', 'witty', 'undeserved', 'prejudices', 'dreadfully', 'undeceive', 'hence', 'reestablish', 'desperate', 'allayed', 'secrets', 'lurking', 'forbade', 'disclosure', 'partake', 'encumbrance', 'mystery', 'steadiness', 'attachments', 'fervently', 'remembrance', 'requisite', 'injurious', 'sad', 'undeserving', 'collinses', 'manager', 'sharp', 'extravagant', 'outrun', 'lawfully', 'drooping', 'apace', 'extreme', 'hardheartedness', 'exclaim', 'woe', 'grief', 'miller', 'seabathing', 'lamentations', 'resounding', 'diverted', 'anew', 'rapture', 'adoration', 'flew', 'restless', 'everyones', 'luckless', 'repined', 'fate', 'accent', 'exciting', 'warrant', 'detestable', 'advising', 'improprieties', 'derive', 'temptations', 'exposed', 'arisen', 'squeamish', 'youths', 'absurdity', 'aloof', 'injuries', 'complaining', 'volatility', 'checking', 'exuberant', 'teaching', 'pursuits', 'meanest', 'flirtation', 'attraction', 'emptiness', 'ward', 'rage', 'comprehended', 'uncontrolled', 'censured', 'despised', 'prey', 'degrees', 'authorising', 'lock', 'content', 'vexations', 'unavoidable', 'augment', 'substance', 'volubility', 'earthly', 'creative', 'streets', 'gay', 'bathingplace', 'tens', 'scores', 'glories', 'camp', 'tents', 'stretched', 'beauteous', 'uniformity', 'dazzling', 'tent', 'realities', 'consoled', 'agitations', 'detect', 'sameness', 'renewing', 'serve', 'frivolous', 'improves', 'gayer', 'aught', 'essentials', 'apprehensive', 'gentlest', 'accents', 'deter', 'foul', 'misconduct', 'cautiousness', 'alluding', 'adopted', 'awe', 'operated', 'forwarding', 'repress', 'broke', 'whence', 'pathetic', 'shed', 'weep', 'envy', 'diffuse', 'impressive', 'injunctions', 'clamorous', 'adieus', 'conjugal', 'captivated', 'illiberal', 'vanished', 'overthrown', 'tastes', 'enjoyments', 'contributed', 'philosopher', 'overlook', 'illjudged', 'rightly', 'enlarging', 'abroad', 'repinings', 'dullness', 'regain', 'disturbers', 'brain', 'apprehended', 'hardened', 'wateringplace', 'commencement', 'anticipation', 'discontentedness', 'carrying', 'ceaseless', 'realised', 'warded', 'defence', 'parasol', 'reappear', 'happier', 'querulous', 'war', 'quartered', 'curtailed', 'setting', 'later', 'july', 'substitute', 'contracted', 'northwards', 'celebrated', 'matlock', 'chatsworth', 'dovedale', 'peak', 'impunity', 'rob', 'petrified', 'spars', 'doubled', 'loving', 'enhance', 'disappointments', 'route', 'oxford', 'blenheim', 'warwick', 'kenilworth', 'birmingham', 'lambton', 'willingness', 'carpets', 'curtains', 'richly', 'furnished', 'finest', 'woods', 'acquiesce', 'resource', 'unfavourably', 'chambermaid', 'alarms', 'revived', 'perturbation', 'flutter', 'lowest', 'wood', 'stretching', 'halfamile', 'top', 'eminence', 'valley', 'abruptness', 'stone', 'backed', 'ridge', 'woody', 'hills', 'stream', 'swelled', 'artificial', 'banks', 'falsely', 'descended', 'bridge', 'respectablelooking', 'elderly', 'proportioned', 'surveying', 'crowned', 'river', 'scattered', 'winding', 'trace', 'positions', 'lofty', 'gaudy', 'uselessly', 'splendour', 'reynolds', 'miniatures', 'army', 'intimation', 'plays', 'sings', 'communicativeness', 'goodtempered', 'sweetesttempered', 'generoushearted', 'affable', 'pictures', 'dimensions', 'merits', 'landlord', 'nowadays', 'whispered', 'reaching', 'spacious', 'lobby', 'sittingroom', 'lightness', 'apartments', 'picturegallery', 'bedrooms', 'paintings', 'drawings', 'crayons', 'lifetime', 'sensation', 'canvas', 'inspection', 'consigned', 'gardener', 'halldoor', 'stables', 'yards', 'abrupt', 'deepest', 'lift', 'recurring', 'sedateness', 'distraction', 'discrimination', 'alighted', 'strikingly', 'water', 'nobler', 'mechanically', 'appeals', 'aroused', 'spots', 'wander', 'overspreading', 'triumphant', 'accustomed', 'circuit', 'hanging', 'narrowest', 'simple', 'glen', 'narrow', 'rough', 'coppicewood', 'explore', 'windings', 'submit', 'slow', 'fishing', 'trout', 'lasted', 'imitate', 'mischievously', 'construed', 'unprepared', 'revolted', 'named', 'stole', 'sly', 'decamping', 'sustained', 'fortitude', 'gloried', 'tackle', 'arminarm', 'reproofs', 'resuming', 'brink', 'waterplant', 'chanced', 'originated', 'inadequate', 'bakewell', 'acceded', 'outstripped', 'lawn', 'embargo', 'dove', 'dale', 'unbecoming', 'whimsical', 'misunderstood', 'mouth', 'unfavourable', 'flaming', 'comprehends', 'construction', 'faulty', 'naming', 'relied', 'environs', 'satisfactions', 'discontinuance', 'curricle', 'recognizing', 'livery', 'guessed', 'imparted', 'acquainting', 'newlyborn', 'heads', 'disquiet', 'commonly', 'retreated', 'shy', 'obtain', 'monosyllable', 'scale', 'womanly', 'graceful', 'unembarrassed', 'discerning', 'barely', 'personage', 'overflowing', 'prepossessed', 'rival', 'interpretation', 'denoted', 'untinctured', 'unattended', 'temporary', 'outlived', 'courting', 'unbending', 'invitations', 'presuming', 'avoidance', 'construing', 'untouched', 'reference', 'recognized', 'indicated', 'markettown', 'imperfectly', 'wellknown', 'debts', 'discharged', 'hatred', 'repugnant', 'friendlier', 'petulance', 'acrimony', 'enemy', 'indelicate', 'peculiarity', 'selves', 'ardent', 'unpleasing', 'possessed', 'imitated', 'equalled', 'saloon', 'oaks', 'spanish', 'chestnuts', 'intermediate', 'annesley', 'agreeablelooking', 'closely', 'employing', 'brevity', 'variation', 'cake', 'fruits', 'pyramids', 'grapes', 'nectarines', 'peaches', 'deciding', 'predominate', 'learning', 'forwarded', 'sneering', 'uppermost', 'exerting', 'vigorously', 'repel', 'involuntary', 'refrained', 'discompose', 'injure', 'venting', 'criticisms', 'brown', 'coarse', 'tanned', 'rejoined', 'nose', 'teeth', 'shrewish', 'selfsufficiency', 'recommending', 'nettled', 'resolutely', 'mostly', 'fruit', 'repining', 'missent', 'scotland', 'thoughtless', 'indiscreet', 'conjectured', 'missed', 'finishing', 'seized', 'bewildered', 'coherent', 'f', 'gretna', 'w', 'b', 'clapham', 'hackney', 'dismissed', 'epsom', 'anxiously', 'turnpikes', 'inns', 'barnet', 'hatfield', 'kindest', 'apprehensions', 'safest', 'exigence', 'rely', 'darting', 'losing', 'precious', 'impetuous', 'superseded', 'detain', 'knees', 'trembled', 'commissioned', 'unintelligible', 'miserably', 'commiseration', 'glass', 'wretched', 'indistinctly', 'eloped', 'horrible', 'meditation', 'brow', 'selfconquest', 'consolatory', 'bosom', 'palliation', 'self', 'intrude', 'engross', 'swallowed', 'handkerchief', 'torment', 'calls', 'meetings', 'retrospective', 'contradictions', 'varieties', 'sighed', 'promoted', 'termination', 'foundations', 'sources', 'exchanged', 'authorise', 'infamy', 'additional', 'anguish', 'deliberately', 'fluctuating', 'cares', 'deranged', 'satisfying', 'trembling', 'afflicted', 'actuated', 'disclose', 'notes', 'excuses', 'completed', 'shorter', 'space', 'unprotected', 'friendless', 'adequate', 'brightening', 'decency', 'guilty', 'removing', 'presumption', 'traces', 'exceptional', 'abundant', 'economically', 'expeditiously', 'forego', 'benefiting', 'dishonourable', 'indolence', 'halfyear', 'dispose', 'susceptibility', 'captivate', 'profligate', 'insinuating', 'alive', 'liberality', 'lies', 'endless', 'thoroughly', 'unpretending', 'apparently', 'deception', 'ensue', 'perceptible', 'moderate', 'favourites', 'forgetfulness', 'travelled', 'sleeping', 'wearied', 'paddock', 'lighted', 'faces', 'bodies', 'capers', 'frisks', 'jumped', 'kiss', 'embraced', 'filled', 'fugitives', 'safety', 'dressingroom', 'alternate', 'sanguine', 'deserted', 'proceedings', 'invectives', 'villainous', 'illjudging', 'forsters', 'overruled', 'fight', 'killed', 'terrific', 'fighting', 'frighted', 'wits', 'tremblings', 'flutterings', 'spasms', 'beatings', 'seclusion', 'household', 'busily', 'incurred', 'fretfulness', 'stem', 'pour', 'bosoms', 'balm', 'lesson', 'irretrievable', 'involves', 'brittle', 'lifted', 'moral', 'extractions', 'availed', 'sequel', 'brains', 'unjustifiable', 'pocketbook', 'tonight', 'sally', 'slit', 'packed', 'belonging', 'hysterics', 'faculties', 'repose', 'condole', 'services', 'condolence', 'insufferable', 'postilions', 'fare', 'remarked', 'anyhow', 'coachman', 'negligent', 'dilatory', 'duel', 'serviceable', 'heartening', 'reporting', 'irregularity', 'dispirited', 'striving', 'blacken', 'tradesman', 'intrigues', 'seduction', 'wickedest', 'distrusted', 'gaining', 'hotels', 'disinclined', 'intimates', 'clue', 'essential', 'curiosities', 'affliction', 'sympathise', 'bitterest', 'alleviate', 'afflicting', 'parent', 'lamented', 'informs', 'licentiousness', 'enormity', 'howsoever', 'grievously', 'apprehending', 'fortunes', 'condescendingly', 'connect', 'augmented', 'reap', 'heinous', 'finances', 'transpired', 'gaming', 'gamester', 'spiritless', 'illsuccess', 'yielded', 'stage', 'halfexpectation', 'lowness', 'fairly', 'dread', 'sleepless', 'philosophic', 'parade', 'nightcap', 'powdering', 'runs', 'eastbourne', 'prohibited', 'stir', 'threats', 'cry', 'concluding', 'thence', 'butler', 'copse', 'lagged', 'panting', 'pocket', 'settlement', 'conditions', 'privileged', 'haggerston', 'diligence', 'explicitly', 'edw', 'farthing', 'clearing', 'sixpence', 'requited', 'protection', 'consenting', 'writingtable', 'preparation', 'exuberance', 'fidgety', 'disturbed', 'humbled', 'transports', 'pledged', 'sounds', 'dictate', 'calico', 'cambric', 'dictated', 'plentiful', 'consulted', 'philips', 'airing', 'bowl', 'punch', 'refuge', 'justly', 'annual', 'survived', 'britain', 'rested', 'cutting', 'successively', 'exceeding', 'proportions', 'acceding', 'concisely', 'fulfil', 'loser', 'board', 'undertaking', 'proportionate', 'speed', 'decent', 'philosophy', 'secluded', 'farmhouse', 'welldoing', 'spiteful', 'oppressively', 'damp', 'attendants', 'nuptials', 'muslins', 'searching', 'haye', 'gouldings', 'stoke', 'ashworth', 'pulvis', 'attics', 'admittance', 'impudence', 'guinea', 'inconceivable', 'valid', 'eloping', 'spreading', 'confidently', 'frailty', 'individually', 'gulf', 'impassable', 'scorned', 'shrink', 'blow', 'repented', 'proudly', 'spurned', 'gladly', 'mortal', 'multitude', 'connubial', 'precluding', 'permanent', 'passions', 'regulars', 'ensigncy', 'arrangements', 'creditors', 'payment', 'subjoin', 'south', 'begs', 'e', 'residing', 'mildly', 'culprit', 'endure', 'decked', 'impenetrably', 'stepped', 'forwards', 'shewed', 'austerity', 'untamed', 'unabashed', 'fearless', 'demanding', 'limits', 'impudent', 'caused', 'humoured', 'replies', 'expressively', 'hereabouts', 'overtook', 'goulding', 'sideglass', 'glove', 'frame', 'housemaids', 'dont', 'newcastle', 'regretted', 'elope', 'flight', 'kill', 'birds', 'september', 'body', 'managed', 'clement', 'eleven', 'fuss', 'distracted', 'sermon', 'breakfasted', 'll', 'foot', 'theatre', 'faithfully', 'burning', 'noblest', 'seizing', 'dropt', 'cogent', 'tricks', 'stratagems', 'confidante', 'benches', 'sept', 'devote', 'foresee', 'comprise', 'explicit', 'racked', 'hunting', 'worthlessness', 'confide', 'generously', 'edwardstreet', 'bribery', 'corruption', 'wishedfor', 'insisted', 'expedite', 'illconsequences', 'resign', 'effectually', 'postponed', 'battled', 'sorely', 'grain', 'borrowed', 'feathers', 'amounting', 'anybodys', 'admission', 'staid', 'bold', 'prudently', 'exclude', 'p', 'unsettled', 'uncertainty', 'attendant', 'research', 'supplication', 'abominate', 'bribe', 'considerations', 'revolt', 'saucy', 'overtaken', 'strangely', 'biting', 'silenced', 'kympton', 'sermonmaking', 'palatable', 'compromised', 'kissed', 'simpers', 'smirks', 'prodigiously', 'forlorn', 'shoot', 'fidgets', 'latest', 'butcher', 'ducks', 'wavered', 'legally', 'hired', 'speculation', 'errand', 'neighbouring', 't', 'sha', 'thirteen', 'sufferer', 'counted', 'intervene', 'whatshisname', 'vow', 'explanatory', 'shew', 'undervalued', 'benefits', 'witnessing', 'lustre', 'unshaken', 'paler', 'sedate', 'contrasted', 'preservation', 'irremediable', 'thoughtfulness', 'changes', 'papers', 'courier', 'esq', 'northward', 'levelled', 'vastly', 'covies', 'compensation', 'rekindled', 'natured', 'chatty', 'mindful', 'deaden', 'dines', 'sportsmen', 'forbore', 'sanction', 'halflaughing', 'ungraciousness', 'enabling', 'wearisome', 'pouring', 'confederacy', 'vacancy', 'closer', 'enraged', 'protest', 'abhorrent', 'cup', 'scarborough', 'teathings', 'victim', 'rapacity', 'unsuccessfully', 'venison', 'roasted', 'fat', 'haunch', 'partridges', 'french', 'cooks', 'mortifies', 'instruct', 'sarah', 'forwarder', 'hang', 'sash', 'winking', 'innocently', 'wink', 'waste', 'premeditation', 'halfopened', 'ineffectual', 'officiousness', 'appointment', 'communicative', 'eccentric', 'invention', 'counteract', 'infinite', 'hearth', 'basis', 'superexcellent', 'simpered', 'tempers', 'cheat', 'exceed', 'dispense', 'petitioned', 'barbarous', 'detested', 'advantageously', 'vex', 'dupe', 'forgiving', 'forty', 'shift', 'luckiest', 'equipage', 'preceded', 'confinement', 'stiffly', 'lucass', 'west', 'puzzled', 'prettyish', 'wilderness', 'hermitage', 'pronouncing', 'survey', 'waitingwoman', 'trifled', 'insincere', 'frankness', 'contradicted', 'industriously', 'circulated', 'retains', 'allurements', 'infatuation', 'aspire', 'cradles', 'unallied', 'tacit', 'completion', 'inclinations', 'dissuaded', 'brooking', 'maternal', 'ancient', 'untitled', 'member', 'respective', 'upstart', 'sphere', 'aunts', 'recede', 'intimidated', 'persuasions', 'importuned', 'patchedup', 'expence', 'earth', 'shades', 'polluted', 'insulted', 'constitute', 'obey', 'violated', 'scorn', 'final', 'ambition', 'finelooking', 'originate', 'revolving', 'persisting', 'judgment', 'miseries', 'weakest', 'solid', 'reasoning', 'wavering', 'unblemished', 'constancy', 'obligingly', 'appeased', 'dismay', 'consequent', 'explanations', 'rushed', 'instantaneous', 'undetermined', 'penetration', 'sagacity', 'gossiping', 'advertised', 'presumed', 'illustrious', 'personages', 'land', 'kindred', 'incur', 'closure', 'pitched', 'lie', 'blemish', 'pleasantry', 'termed', 'speediest', 'hushed', 'declaring', 'christian', 'forgiveness', 'missish', 'hypocrisy', 'outstrip', 'boldly', 'executed', 'unexampled', 'mortifications', 'discovering', 'inducements', 'april', 'unchanged', 'fluently', 'undergone', 'heartfelt', 'diffused', 'proving', 'emphatically', 'contrariwise', 'irrevocably', 'frankly', 'illfounded', 'premises', 'severest', 'annexed', 'strictly', 'irreproachable', 'inexpressibly', 'tortured', 'devoid', 'burnt', 'unalterable', 'implies', 'charity', 'retrospections', 'void', 'innocence', 'repelled', 'principles', 'benevolent', 'overbearing', 'loveliest', 'blamed', 'leisurely', 'busy', 'watches', 'term', 'unabated', 'forgiven', 'unmarked', 'unacknowledged', 'overflows', 'joking', 'loves', 'doubtingly', 'ashooting', 'disturb', 'epithet', 'lanes', 'oakham', 'mount', 'wo', 'vehemence', 'filling', 'disposing', 'gradual', 'test', 'reconcile', 'rant', 'storm', 'tranquilly', 'familiarity', 'backward', 'fidget', 'pinmoney', 'jewels', 'special', 'licence', 'omen', 'warmest', 'sonsinlaw', 'withstood', 'assiduously', 'exaggerate', 'quarrelling', 'springs', 'overrated', 'detail', 'loose', 'rein', 'sends', 'sending', 'blown', 'parading', 'obsequious', 'jewel', 'shrug', 'shoulders', 'vulgarity', 'shield', 'wellinformed', 'relished', 'unusual', 'vicinity', 'darling', 'ungovernable', 'insipid', 'mix', 'moralize', 'comparisons', 'submitted', 'reluctance', 'revolution', 'ingratitude', 'congratulatory', 'expences', 'heedless', 'bills', 'cheap', 'bath', 'retain', 'heretofore', 'arrear', 'sportive', 'liberties', 'pollution', 'city', 'uniting', 'file', 'associated', 'files', 'formats', 'http', 'editions', 'replace', 'renamed', 'creating', 'works', 'domain', 'print', 'states', 'copyright', 'royalties', 'rules', 'copying', 'distributing', 'gutenbergtm', 'electronic', 'protect', 'concept', 'trademark', 'registered', 'ebooks', 'specific', 'copies', 'creation', 'derivative', 'performances', 'modified', 'printed', 'practically', 'redistribution', 'commercial', 'mission', 'promoting', 'distribution', 'phrase', 'available', 'gutenbergorglicense', 'section', 'redistributing', 'indicate', 'intellectual', 'trademarkcopyright', 'destroy', 'fee', 'obtaining', 'access', 'refund', 'entity', 'paragraph', 'literary', 'archive', 'pglaf', 'compilation', 'located', 'performing', 'based', 'references', 'format', 'laws', 'govern', 'countries', 'outside', 'downloading', 'representations', 'status', 'links', 'prominently', 'accessed', 'viewed', 'distributed', 'indicating', 'posted', 'holder', 'fees', 'charges', 'requirements', 'paragraphs', 'linked', 'unlink', 'detach', 'redistribute', 'binary', 'compressed', 'nonproprietary', 'proprietary', 'processing', 'hypertext', 'vanilla', 'ascii', 'official', 'version', 'web', 'site', 'user', 'exporting', 'specified', 'royalty', 'profits', 'applicable', 'taxes', 'donate', 'payments', 'periodic', 'donations', 'notifies', 'email', 'physical', 'medium', 'discontinue', 'accordance', 'replacement', 'reported', 'michael', 'hart', 'contact', 'employees', 'expend', 'identify', 'transcribe', 'proofread', 'despite', 'stored', 'limited', 'incomplete', 'inaccurate', 'corrupt', 'data', 'transcription', 'infringement', 'damaged', 'disk', 'computer', 'virus', 'codes', 'damage', 'equipment', 'warranty', 'disclaimer', 'damages', 'liability', 'costs', 'remedies', 'strict', 'contract', 'distributor', 'punitive', 'incidental', 'elect', 'electronically', 'problem', 'asis', 'warranties', 'merchantibility', 'fitness', 'disclaimers', 'limitation', 'types', 'violates', 'interpreted', 'maximum', 'invalidity', 'unenforceability', 'provisions', 'indemnity', 'indemnify', 'agent', 'employee', 'production', 'promotion', 'harmless', 'indirectly', 'modification', 'deletions', 'c', 'synonymous', 'readable', 'widest', 'computers', 'obsolete', 'middleaged', 'exists', 'hundreds', 'financial', 'gutenbergtms', 'goals', 'ensuring', 'sections', 'wwwpglaforg', 'non', 'educational', 'corporation', 'organized', 'mississippi', 'granted', 'exempt', 'internal', 'revenue', 'ein', 'federal', 'identification', 'pglaforgfundraising', 'contributions', 'deductible', 'melan', 'dr', 'fairbanks', 'ak', 'locations', 'salt', 'lake', 'ut', 'pglaforg', 'gregory', 'newby', 'executive', 'director', 'gbnewby', 'depends', 'licensed', 'machine', 'accessible', 'array', 'outdated', 'irs', 'committed', 'regulating', 'charities', 'charitable', 'paperwork', 'prohibition', 'unsolicited', 'donors', 'international', 'statements', 'swamp', 'staff', 'current', 'donation', 'methods', 'checks', 'pglaforgdonate', 'professor', 'originator', 'network', 'volunteer', 'edition', 'main', 'pg', 'facility', 'includes', 'subscribe', 'newsletter']\n",
      "[ 0.0920743  -0.60890037 -1.205354    0.64254916 -0.48166987 -0.7810714\n",
      "  0.26341864 -1.1532158   0.9016025  -0.02384129  0.32840735 -0.1205241\n",
      " -0.34778687 -1.0829127   0.8573899   0.4658604   0.31296897  0.9536515\n",
      "  0.6156042  -0.50448364  0.50687534 -0.3454     -0.44465953 -1.0039328\n",
      " -0.6042626  -0.69273734 -0.01485336  0.36916178 -0.07532007 -0.00243815\n",
      " -0.3366549   0.02589596  0.38276428  0.9560327   0.79744816  0.11472806\n",
      "  0.63578415 -0.45792475  0.2618336  -0.5993125  -1.1981146  -0.46275747\n",
      "  0.15731542  0.34986657  0.17246386 -0.43990982  0.555526    0.23480155\n",
      " -0.4468225  -0.31276548  0.4662005  -1.4642879  -0.37998098 -0.7735128\n",
      "  0.42075166 -0.16612135  0.8622456  -0.34218937  0.18623011 -0.63436633\n",
      " -0.19096078  0.9001546  -0.27723545  0.96793145  0.46442458 -0.41496179\n",
      "  0.02794422  0.32726818 -0.77250004  0.43830147 -0.32962254 -0.07794742\n",
      " -0.2531054  -0.6533837   0.4339179   0.82923275  0.49899748 -0.7312045\n",
      " -0.36292532  0.5130061  -1.6853396  -0.03333922  0.4001039   1.0544322\n",
      " -0.28019184 -0.00837515 -0.32327828 -0.06672738  0.69238454 -0.39119872\n",
      " -0.9376358   0.8254319  -0.6859414  -1.0337358  -0.62797034  0.41801202\n",
      " -0.21384774 -1.3563068   0.8637636   0.5965205 ]\n"
     ]
    },
    {
     "name": "stderr",
     "output_type": "stream",
     "text": [
      "/Users/rajatmodi/.pyenv/versions/anaconda3-2018.12/lib/python3.7/site-packages/ipykernel_launcher.py:10: DeprecationWarning: Call to deprecated `__getitem__` (Method will be removed in 4.0.0, use self.wv.__getitem__() instead).\n",
      "  # Remove the CWD from sys.path while we load stuff.\n",
      "/Users/rajatmodi/.pyenv/versions/anaconda3-2018.12/lib/python3.7/site-packages/ipykernel_launcher.py:11: DeprecationWarning: Call to deprecated `__getitem__` (Method will be removed in 4.0.0, use self.wv.__getitem__() instead).\n",
      "  # This is added back by InteractiveShellApp.init_path()\n"
     ]
    }
   ],
   "source": [
    "#lets now learn the embeddings on the tokens(list of sentences)\n",
    "from gensim.models import Word2Vec\n",
    "model = Word2Vec(tokens, min_count=1,size=100)\n",
    "# summarize the loaded model\n",
    "print(model)\n",
    "# summarize vocabulary\n",
    "words = list(model.wv.vocab)\n",
    "print(words)\n",
    "# access vector for one word\n",
    "print(model['a'])\n",
    "X = model[model.wv.vocab]"
   ]
  },
  {
   "cell_type": "code",
   "execution_count": 5,
   "metadata": {
    "colab": {},
    "colab_type": "code",
    "id": "gJlcDOs5xnyv"
   },
   "outputs": [],
   "source": [
    "from sklearn.decomposition import PCA\n",
    "pca = PCA(n_components=2)\n",
    "result = pca.fit_transform(X)"
   ]
  },
  {
   "cell_type": "code",
   "execution_count": 6,
   "metadata": {
    "colab": {},
    "colab_type": "code",
    "id": "sCbpEIXIzgHj"
   },
   "outputs": [
    {
     "data": {
      "text/plain": [
       "<Figure size 640x480 with 1 Axes>"
      ]
     },
     "metadata": {},
     "output_type": "display_data"
    }
   ],
   "source": [
    "from matplotlib import pyplot\n",
    "# create a scatter plot of the projection\n",
    "pyplot.scatter(result[:, 0], result[:, 1])\n",
    "words = list(model.wv.vocab)\n",
    "for i, word in enumerate(words):\n",
    "\tpyplot.annotate(word, xy=(result[i, 0], result[i, 1]))\n",
    "pyplot.show()"
   ]
  },
  {
   "cell_type": "markdown",
   "metadata": {
    "colab_type": "text",
    "id": "aubNRlD-z5LE"
   },
   "source": [
    "Learning our own embeddings is ok .But the best way is to use the google news dataset from kaggle. So let us configure the google news datasaet here \n"
   ]
  },
  {
   "cell_type": "code",
   "execution_count": 0,
   "metadata": {
    "colab": {},
    "colab_type": "code",
    "id": "GOItCSYt00VN"
   },
   "outputs": [],
   "source": [
    "ls"
   ]
  },
  {
   "cell_type": "code",
   "execution_count": 0,
   "metadata": {
    "colab": {},
    "colab_type": "code",
    "id": "oO_bi4Nd006V"
   },
   "outputs": [],
   "source": [
    "!pip install -U -q kaggle\n",
    "!mkdir -p ~/.kaggle"
   ]
  },
  {
   "cell_type": "code",
   "execution_count": 0,
   "metadata": {
    "colab": {},
    "colab_type": "code",
    "id": "CKE_lppJ0-mp"
   },
   "outputs": [],
   "source": [
    "#upload kaggle api \n",
    "from google.colab import files\n",
    "files.upload()"
   ]
  },
  {
   "cell_type": "code",
   "execution_count": 0,
   "metadata": {
    "colab": {},
    "colab_type": "code",
    "id": "zI3A5B2x1Qrs"
   },
   "outputs": [],
   "source": [
    "!cp kaggle.json ~/.kaggle/"
   ]
  },
  {
   "cell_type": "code",
   "execution_count": 0,
   "metadata": {
    "colab": {},
    "colab_type": "code",
    "id": "8Cf6jPhz1Zy7"
   },
   "outputs": [],
   "source": [
    "!kaggle datasets list\n",
    "!kaggle datasets download -d sandreds/googlenewsvectorsnegative300\n"
   ]
  },
  {
   "cell_type": "code",
   "execution_count": 0,
   "metadata": {
    "colab": {},
    "colab_type": "code",
    "id": "XCB5Lfh23kYT"
   },
   "outputs": [],
   "source": [
    "from zipfile import ZipFile \n"
   ]
  },
  {
   "cell_type": "code",
   "execution_count": 0,
   "metadata": {
    "colab": {},
    "colab_type": "code",
    "id": "NZzFADHH6RLA"
   },
   "outputs": [],
   "source": [
    "ls"
   ]
  },
  {
   "cell_type": "code",
   "execution_count": 0,
   "metadata": {
    "colab": {},
    "colab_type": "code",
    "id": "PY9vlbZB6HGK"
   },
   "outputs": [],
   "source": [
    "file_name = \"googlenewsvectorsnegative300.zip\"\n",
    "  \n",
    "# opening the zip file in READ mode \n",
    "with ZipFile(file_name, 'r') as zip: \n",
    "    # printing all the contents of the zip file \n",
    "    zip.printdir() \n",
    "  \n",
    "    # extracting all the files \n",
    "    print('Extracting all the files now...') \n",
    "    zip.extractall() \n",
    "    print('Done!') "
   ]
  },
  {
   "cell_type": "code",
   "execution_count": 0,
   "metadata": {
    "colab": {},
    "colab_type": "code",
    "id": "Z1viS7_f6Vqi"
   },
   "outputs": [],
   "source": [
    "from gensim.models import KeyedVectors\n",
    "filename = 'GoogleNews-vectors-negative300.bin'\n",
    "model = KeyedVectors.load_word2vec_format(filename, binary=True)"
   ]
  },
  {
   "cell_type": "code",
   "execution_count": 0,
   "metadata": {
    "colab": {},
    "colab_type": "code",
    "id": "5RvMidAl68Mz"
   },
   "outputs": [],
   "source": [
    "result = model.most_similar(positive=['woman', 'king'], negative=['man'], topn=1)\n",
    "print(result)"
   ]
  },
  {
   "cell_type": "code",
   "execution_count": 0,
   "metadata": {
    "colab": {},
    "colab_type": "code",
    "id": "7JYD4yce7eko"
   },
   "outputs": [],
   "source": [
    "!kaggle datasets download -d takuok/glove840b300dtxt"
   ]
  },
  {
   "cell_type": "code",
   "execution_count": 0,
   "metadata": {
    "colab": {},
    "colab_type": "code",
    "id": "aQ1hof9e9ACk"
   },
   "outputs": [],
   "source": [
    "file_name = \"glove840b300dtxt.zip\"\n",
    "  \n",
    "# opening the zip file in READ mode \n",
    "with ZipFile(file_name, 'r') as zip: \n",
    "    # printing all the contents of the zip file \n",
    "    zip.printdir() \n",
    "  \n",
    "    # extracting all the files \n",
    "    print('Extracting all the files now...') \n",
    "    zip.extractall() \n",
    "    print('Done!') "
   ]
  },
  {
   "cell_type": "code",
   "execution_count": 0,
   "metadata": {
    "colab": {},
    "colab_type": "code",
    "id": "02iqAFla9NP9"
   },
   "outputs": [],
   "source": [
    "from gensim.scripts.glove2word2vec import glove2word2vec\n",
    "glove_input_file = 'glove.840B.300d.txt'\n",
    "word2vec_output_file = 'word2vec.txt'\n",
    "glove2word2vec(glove_input_file, word2vec_output_file)"
   ]
  },
  {
   "cell_type": "code",
   "execution_count": 0,
   "metadata": {
    "colab": {},
    "colab_type": "code",
    "id": "SJJhcggK9NyE"
   },
   "outputs": [],
   "source": [
    "ls"
   ]
  },
  {
   "cell_type": "code",
   "execution_count": 0,
   "metadata": {
    "colab": {},
    "colab_type": "code",
    "id": "jv3xFAzK9oqA"
   },
   "outputs": [],
   "source": [
    "from gensim.models import KeyedVectors\n",
    "# load the Stanford GloVe model\n",
    "filename = 'word2vec.txt'\n",
    "model = KeyedVectors.load_word2vec_format(filename, binary=False)\n",
    "# calculate: (king - man) + woman = ?\n",
    "result = model.most_similar(positive=['woman', 'king'], negative=['man'], topn=1)\n",
    "print(result)"
   ]
  },
  {
   "cell_type": "code",
   "execution_count": 0,
   "metadata": {
    "colab": {},
    "colab_type": "code",
    "id": "yr58rrDe-UTV"
   },
   "outputs": [],
   "source": []
  }
 ],
 "metadata": {
  "accelerator": "GPU",
  "colab": {
   "collapsed_sections": [],
   "name": "LearnEmbeddings_prideandprejudice.ipynb",
   "provenance": [],
   "version": "0.3.2"
  },
  "kernelspec": {
   "display_name": "Python 3",
   "language": "python",
   "name": "python3"
  },
  "language_info": {
   "codemirror_mode": {
    "name": "ipython",
    "version": 3
   },
   "file_extension": ".py",
   "mimetype": "text/x-python",
   "name": "python",
   "nbconvert_exporter": "python",
   "pygments_lexer": "ipython3",
   "version": "3.7.1"
  }
 },
 "nbformat": 4,
 "nbformat_minor": 1
}
